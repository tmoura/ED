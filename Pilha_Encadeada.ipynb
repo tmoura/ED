{
  "nbformat": 4,
  "nbformat_minor": 0,
  "metadata": {
    "colab": {
      "name": "Pilha Encadeada.ipynb",
      "provenance": [],
      "authorship_tag": "ABX9TyMcJCGJiqwSjPxTmk9/Ar2A",
      "include_colab_link": true
    },
    "kernelspec": {
      "name": "python3",
      "display_name": "Python 3"
    }
  },
  "cells": [
    {
      "cell_type": "markdown",
      "metadata": {
        "id": "view-in-github",
        "colab_type": "text"
      },
      "source": [
        "<a href=\"https://colab.research.google.com/github/tmoura/ED/blob/master/Pilha_Encadeada.ipynb\" target=\"_parent\"><img src=\"https://colab.research.google.com/assets/colab-badge.svg\" alt=\"Open In Colab\"/></a>"
      ]
    },
    {
      "cell_type": "markdown",
      "metadata": {
        "id": "x8uSo-ri_fcS"
      },
      "source": [
        "## **Exceção PilhaException (Herda da classe Exception)**"
      ]
    },
    {
      "cell_type": "code",
      "metadata": {
        "id": "ruTHXt7f_JtD"
      },
      "source": [
        "class PilhaException(Exception):\n",
        "  def __init__(self,mensagem):\n",
        "    super().__init__(mensagem)"
      ],
      "execution_count": 1,
      "outputs": []
    },
    {
      "cell_type": "markdown",
      "metadata": {
        "id": "qMpGKyMo_moA"
      },
      "source": [
        "## **Classe Nó**"
      ]
    },
    {
      "cell_type": "code",
      "metadata": {
        "id": "LEEh1DVp_pLh"
      },
      "source": [
        "class Node:\n",
        "  def __init__(self, dado = None):\n",
        "    self.__dado = dado\n",
        "    self.__prox = None\n",
        "  \n",
        "  # get\n",
        "  @property\n",
        "  def dado(self):\n",
        "    return self.__dado\n",
        "  \n",
        "  # set\n",
        "  @dado.setter\n",
        "  def dado(self, novo):\n",
        "    self.__dado = novo\n",
        "\n",
        "  # get\n",
        "  @property\n",
        "  def prox(self):\n",
        "    return self.__prox\n",
        "  \n",
        "  # set\n",
        "  @prox.setter\n",
        "  def prox(self, novo):\n",
        "    self.__prox = novo"
      ],
      "execution_count": 2,
      "outputs": []
    },
    {
      "cell_type": "markdown",
      "metadata": {
        "id": "dmetLBc6_uNv"
      },
      "source": [
        "## **Classe Pilha Encadeada**"
      ]
    },
    {
      "cell_type": "code",
      "metadata": {
        "id": "IjZX-VAC_0vI"
      },
      "source": [
        "class PilhaEncadeada:\n",
        "  def __init__(self):\n",
        "    self.__topo = None\n",
        "    self.__tamanho = 0\n",
        "\n",
        "  @property\n",
        "  def topo(self):\n",
        "    return self.__topo\n",
        "\n",
        "  def vazia(self):\n",
        "    return self.__tamanho == 0\n",
        "  \n",
        "  def tamanho(self):\n",
        "    return self.__tamanho\n",
        "  \n",
        "  def inserir(self, dado):\n",
        "    no = Node(dado)\n",
        "    no.prox = self.__topo\n",
        "    self.__topo = no\n",
        "\n",
        "    self.__tamanho += 1  \n",
        "\n",
        "  def remover(self):\n",
        "    try:\n",
        "      if self.vazia():\n",
        "        raise PilhaException('A pilha está vazia')\n",
        "    except:\n",
        "      raise\n",
        "\n",
        "    self.__topo = self.__topo.prox\n",
        "  \n",
        "  def __str__(self):\n",
        "    saida = 'Pilha: ['\n",
        "    p = self.__topo\n",
        "\n",
        "    while p != None:\n",
        "      saida += f'{p.dado}'\n",
        "      p = p.prox\n",
        "\n",
        "      if p != None:\n",
        "        saida += ', '\n",
        "    \n",
        "    saida += ']'\n",
        "    return saida\n",
        "\n",
        "  def imprimir(self):\n",
        "    print(self.__str__())\n",
        "\n",
        "  def modificar(self, novoValor):\n",
        "    self.__topo.dadoo = novoValor"
      ],
      "execution_count": 15,
      "outputs": []
    },
    {
      "cell_type": "code",
      "metadata": {
        "id": "H2MhuiVFBMDN",
        "outputId": "d7ef03e6-bbea-4cff-c557-253f797b2607",
        "colab": {
          "base_uri": "https://localhost:8080/",
          "height": 71
        }
      },
      "source": [
        "if __name__ == '__main__':\n",
        "\n",
        "  p = PilhaEncadeada()\n",
        "\n",
        "  p.inserir(10)\n",
        "  p.inserir(20)\n",
        "  p.inserir(30)\n",
        "  p.inserir(40)\n",
        "\n",
        "  print(p)\n",
        "\n",
        "  p.remover()\n",
        "  print(p)\n",
        "\n",
        "  p.remover()\n",
        "  print(p)\n",
        "\n"
      ],
      "execution_count": 16,
      "outputs": [
        {
          "output_type": "stream",
          "text": [
            "Pilha: [40, 30, 20, 10]\n",
            "Pilha: [30, 20, 10]\n",
            "Pilha: [20, 10]\n"
          ],
          "name": "stdout"
        }
      ]
    }
  ]
}