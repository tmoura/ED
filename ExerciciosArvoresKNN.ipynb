{
  "nbformat": 4,
  "nbformat_minor": 0,
  "metadata": {
    "colab": {
      "provenance": [],
      "authorship_tag": "ABX9TyMukAv1kaxif/Yn+llidrBy",
      "include_colab_link": true
    },
    "kernelspec": {
      "name": "python3",
      "display_name": "Python 3"
    },
    "language_info": {
      "name": "python"
    }
  },
  "cells": [
    {
      "cell_type": "markdown",
      "metadata": {
        "id": "view-in-github",
        "colab_type": "text"
      },
      "source": [
        "<a href=\"https://colab.research.google.com/github/tmoura/ED/blob/master/ExerciciosArvoresKNN.ipynb\" target=\"_parent\"><img src=\"https://colab.research.google.com/assets/colab-badge.svg\" alt=\"Open In Colab\"/></a>"
      ]
    },
    {
      "cell_type": "code",
      "execution_count": 1,
      "metadata": {
        "id": "zg02Ihabr4sx"
      },
      "outputs": [],
      "source": [
        "# 1) Carregar a base TITANIC do seaborn;\n",
        "\n",
        "# 2) Observar a relação dos atributos \"pclass\" com \"class\". Remover uma das colunas;\n",
        "\n",
        "# 3) Observar a quantidade de NaN existente no atributo \"deck\". Remover essa coluna;\n",
        "\n",
        "# 4) Remover as linhas que tenham valores NaN;\n",
        "\n",
        "# 5) Transformar todos os atributos categóricos usando One-Hot Encoder;\n",
        "\n",
        "# 6) Coluna target é a \"pclass\" ou \"survived\" (escolha uma das duas);\n",
        "\n",
        "# 7) Separar os dados para treinamento e teste;\n",
        "\n",
        "# 8) Treinar 2 árvores de decisão com características diferentes;\n",
        "\n",
        "# 9) Treinar 2 kNN com características diferentes.\n",
        "\n",
        "import seaborn as sns\n",
        "\n",
        "dataset = sns.load_dataset(\"titanic\")"
      ]
    },
    {
      "cell_type": "code",
      "source": [
        "# 1) Carregar a base TRANSFUSION. URL da base segue abaixo:\n",
        "\n",
        "# https://raw.githubusercontent.com/tmoura/machinelearning/master/transfusion.data\n",
        "\n",
        "# A coluna 0 (zero) é o TARGET.\n",
        "\n",
        "# Observe que a magnitude dos atributos é bem diferente, então cada atributo deve ser normalizado.\n",
        "\n",
        "# 2) Separar os dados de treinamento e testes;\n",
        "\n",
        "# 3) Treinar 2 árvores de decisão com características diferentes;\n",
        "\n",
        "# 4) Treinar 2 kNN com características diferentes.\n",
        "\n",
        "import pandas as pd\n",
        "\n",
        "url = \"https://raw.githubusercontent.com/tmoura/machinelearning/master/transfusion.data\"\n",
        "\n",
        "# Carregar base de dados\n",
        "dataset = pd.read_csv(url, header=None)\n",
        "\n",
        "columns = len(dataset.columns)\n",
        "\n",
        "y = dataset[0] # extrai a primeira coluna, que é o label\n",
        "X = dataset.loc[:,1:columns-1]"
      ],
      "metadata": {
        "id": "GPGLrqSCsL2J"
      },
      "execution_count": 4,
      "outputs": []
    }
  ]
}