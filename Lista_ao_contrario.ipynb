{
  "nbformat": 4,
  "nbformat_minor": 0,
  "metadata": {
    "colab": {
      "name": "Lista_ao_contrario.ipynb",
      "provenance": [],
      "authorship_tag": "ABX9TyOsKCfR/ukq4xFEwxCHR0GR",
      "include_colab_link": true
    },
    "kernelspec": {
      "name": "python3",
      "display_name": "Python 3"
    },
    "language_info": {
      "name": "python"
    }
  },
  "cells": [
    {
      "cell_type": "markdown",
      "metadata": {
        "id": "view-in-github",
        "colab_type": "text"
      },
      "source": [
        "<a href=\"https://colab.research.google.com/github/tmoura/ED/blob/master/Lista_ao_contrario.ipynb\" target=\"_parent\"><img src=\"https://colab.research.google.com/assets/colab-badge.svg\" alt=\"Open In Colab\"/></a>"
      ]
    },
    {
      "cell_type": "markdown",
      "metadata": {
        "id": "osgPuDTDmWkH"
      },
      "source": [
        "## Imprimir Lista de Trás para Frente"
      ]
    },
    {
      "cell_type": "code",
      "metadata": {
        "id": "FY5VYQ5sme-B"
      },
      "source": [
        "class Node:\n",
        "  def __init__(self, dado):\n",
        "    self._dado = dado\n",
        "    self._prox = None\n",
        "\n",
        "  @property\n",
        "  def dado(self):\n",
        "    return self._dado\n",
        "  \n",
        "  @property\n",
        "  def prox(self):\n",
        "    return self._prox\n",
        "  \n",
        "  @dado.setter\n",
        "  def dado(self, novo):\n",
        "    self._dado = novo\n",
        "  \n",
        "  @prox.setter\n",
        "  def prox(self, novo):\n",
        "    self._prox = novo\n"
      ],
      "execution_count": 5,
      "outputs": []
    },
    {
      "cell_type": "code",
      "metadata": {
        "id": "7ug7TFpFmVvh"
      },
      "source": [
        "def imprimir_ao_contrario(aux):\n",
        "  if aux.prox != None:\n",
        "    imprimir_ao_contrario(aux.prox)\n",
        "  print(aux.dado)\n",
        "\n",
        "\n",
        "if __name__ == \"__main__\":\n",
        "\n",
        "  inicio = None\n",
        "  primeiro = Node(10)\n",
        "  segundo = Node(20)\n",
        "  terceiro = Node(30)\n",
        "  quarto = Node(40)\n",
        "\n",
        "  primeiro.prox = segundo\n",
        "  segundo.prox = terceiro\n",
        "  terceiro.prox = quarto\n",
        "\n",
        "  inicio = primeiro\n",
        "\n",
        "  ### Imprimir ao contrário\n",
        "  imprimir_ao_contrario(inicio)"
      ],
      "execution_count": null,
      "outputs": []
    }
  ]
}