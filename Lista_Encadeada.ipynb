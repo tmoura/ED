{
  "nbformat": 4,
  "nbformat_minor": 0,
  "metadata": {
    "colab": {
      "name": "Lista Encadeada.ipynb",
      "provenance": [],
      "collapsed_sections": [],
      "authorship_tag": "ABX9TyMrp07WuMYsJ0Japtq9JEcJ",
      "include_colab_link": true
    },
    "kernelspec": {
      "name": "python3",
      "display_name": "Python 3"
    }
  },
  "cells": [
    {
      "cell_type": "markdown",
      "metadata": {
        "id": "view-in-github",
        "colab_type": "text"
      },
      "source": [
        "<a href=\"https://colab.research.google.com/github/tmoura/ED/blob/master/Lista_Encadeada.ipynb\" target=\"_parent\"><img src=\"https://colab.research.google.com/assets/colab-badge.svg\" alt=\"Open In Colab\"/></a>"
      ]
    },
    {
      "cell_type": "markdown",
      "metadata": {
        "id": "6K9MhaOk3e0_",
        "colab_type": "text"
      },
      "source": [
        "## **Exceção ListaException (Herda da classe Exception)**"
      ]
    },
    {
      "cell_type": "code",
      "metadata": {
        "id": "C13A2_iM3Xuc",
        "colab_type": "code",
        "colab": {}
      },
      "source": [
        "class ListaException(Exception):\n",
        "  def __init__(self,mensagem):\n",
        "    super().__init__(mensagem)"
      ],
      "execution_count": null,
      "outputs": []
    },
    {
      "cell_type": "markdown",
      "metadata": {
        "id": "OWDdk_YkHuPf",
        "colab_type": "text"
      },
      "source": [
        "## **Classe Nó**"
      ]
    },
    {
      "cell_type": "code",
      "metadata": {
        "id": "_N7NsXztHxtY",
        "colab_type": "code",
        "colab": {}
      },
      "source": [
        "class Node:\n",
        "  def __init__(self, dado = None):\n",
        "    self.__dado = dado\n",
        "    self.__prox = None\n",
        "  \n",
        "  # get\n",
        "  @property\n",
        "  def dado(self):\n",
        "    return self.__dado\n",
        "  \n",
        "  # set\n",
        "  @dado.setter\n",
        "  def dado(self, novo):\n",
        "    self.__dado = novo\n",
        "\n",
        "  # get\n",
        "  @property\n",
        "  def prox(self):\n",
        "    return self.__prox\n",
        "  \n",
        "  # set\n",
        "  @prox.setter\n",
        "  def prox(self, novo):\n",
        "    self.__prox = novo"
      ],
      "execution_count": 14,
      "outputs": []
    },
    {
      "cell_type": "markdown",
      "metadata": {
        "id": "Ec-XUDpP38ju",
        "colab_type": "text"
      },
      "source": [
        "## **Classe Lista Encadeada**"
      ]
    },
    {
      "cell_type": "code",
      "metadata": {
        "id": "LESsLP7c4E21",
        "colab_type": "code",
        "colab": {}
      },
      "source": [
        "class ListaEncadeada:\n",
        "  def __init__(self):\n",
        "    self.__head = None\n",
        "    self.__tamanho = 0\n",
        "\n",
        "  def vazia(self):\n",
        "    return self.__tamanho == 0\n",
        "  \n",
        "  def tamanho(self):\n",
        "    return self.__tamanho\n",
        "  \n",
        "  def busca(self, dado):\n",
        "    if self.vazia():\n",
        "      raise ListaException('A lista está vazia')\n",
        "\n",
        "    p = self.__head\n",
        "    contador = 1\n",
        "\n",
        "    while p != None:\n",
        "      if p.dado == dado:\n",
        "        return contador\n",
        "      \n",
        "      p = p.prox\n",
        "      contador += 1\n",
        "\n",
        "    raise ListaException('O valor procurado não está na lista')\n",
        "  \n",
        "  def elemento(self, posicao):\n",
        "\n",
        "    try:\n",
        "      assert posicao > 0\n",
        "      \n",
        "      if self.vazia():\n",
        "          raise ListaException('A lista está vazia')\n",
        "      \n",
        "\n",
        "      p = self.__head\n",
        "      contador = 1\n",
        "\n",
        "      while p != None and contador < posicao:\n",
        "        p = p.prox\n",
        "        contador += 1\n",
        "\n",
        "\n",
        "\n",
        "  "
      ],
      "execution_count": 6,
      "outputs": []
    },
    {
      "cell_type": "code",
      "metadata": {
        "id": "Ne9KgNKSIPVg",
        "colab_type": "code",
        "colab": {}
      },
      "source": [
        "n = Node(10)\n",
        "\n",
        "n.dado = 20\n",
        "print(n.dado)\n",
        "\n",
        "n.prox = 30\n",
        "print(n.prox)"
      ],
      "execution_count": null,
      "outputs": []
    }
  ]
}