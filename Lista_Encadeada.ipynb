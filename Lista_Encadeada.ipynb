{
  "nbformat": 4,
  "nbformat_minor": 0,
  "metadata": {
    "colab": {
      "name": "Lista Encadeada.ipynb",
      "provenance": [],
      "collapsed_sections": [],
      "authorship_tag": "ABX9TyMwMGAGXxcq+D3trP8/+nDg",
      "include_colab_link": true
    },
    "kernelspec": {
      "name": "python3",
      "display_name": "Python 3"
    }
  },
  "cells": [
    {
      "cell_type": "markdown",
      "metadata": {
        "id": "view-in-github",
        "colab_type": "text"
      },
      "source": [
        "<a href=\"https://colab.research.google.com/github/tmoura/ED/blob/master/Lista_Encadeada.ipynb\" target=\"_parent\"><img src=\"https://colab.research.google.com/assets/colab-badge.svg\" alt=\"Open In Colab\"/></a>"
      ]
    },
    {
      "cell_type": "markdown",
      "metadata": {
        "id": "6K9MhaOk3e0_",
        "colab_type": "text"
      },
      "source": [
        "## **Exceção ListaException (Herda da classe Exception)**"
      ]
    },
    {
      "cell_type": "code",
      "metadata": {
        "id": "C13A2_iM3Xuc",
        "colab_type": "code",
        "colab": {}
      },
      "source": [
        "class ListException(Exception):\n",
        "  def __init__(self,mensagem):\n",
        "    super().__init__(mensagem)"
      ],
      "execution_count": null,
      "outputs": []
    },
    {
      "cell_type": "markdown",
      "metadata": {
        "id": "Ec-XUDpP38ju",
        "colab_type": "text"
      },
      "source": [
        "## **Classe Lista Encadeada**"
      ]
    },
    {
      "cell_type": "code",
      "metadata": {
        "id": "LESsLP7c4E21",
        "colab_type": "code",
        "colab": {}
      },
      "source": [
        "class ListaEncadeada:\n",
        "  def __init__(self):\n",
        "    self.__head = None"
      ],
      "execution_count": null,
      "outputs": []
    }
  ]
}