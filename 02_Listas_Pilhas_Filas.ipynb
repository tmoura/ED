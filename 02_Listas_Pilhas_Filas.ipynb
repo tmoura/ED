{
  "nbformat": 4,
  "nbformat_minor": 0,
  "metadata": {
    "colab": {
      "name": "02-Listas-Pilhas-Filas.ipynb",
      "provenance": [],
      "authorship_tag": "ABX9TyO3hze1xROB/sGfvs7+KoEx",
      "include_colab_link": true
    },
    "kernelspec": {
      "name": "python3",
      "display_name": "Python 3"
    }
  },
  "cells": [
    {
      "cell_type": "markdown",
      "metadata": {
        "id": "view-in-github",
        "colab_type": "text"
      },
      "source": [
        "<a href=\"https://colab.research.google.com/github/tmoura/ED/blob/master/02_Listas_Pilhas_Filas.ipynb\" target=\"_parent\"><img src=\"https://colab.research.google.com/assets/colab-badge.svg\" alt=\"Open In Colab\"/></a>"
      ]
    },
    {
      "cell_type": "markdown",
      "metadata": {
        "id": "WzzmVFGhqrqC",
        "colab_type": "text"
      },
      "source": [
        "# **Classe Pilha utilizando como dado um \"List\" do Python**"
      ]
    },
    {
      "cell_type": "code",
      "metadata": {
        "id": "XZmk8sCRqiZJ",
        "colab_type": "code",
        "colab": {}
      },
      "source": [
        "class Pilha:\n",
        "\n",
        "  def __init__(self,itens=[]):\n",
        "    self.itens = itens\n",
        "\n",
        "  def push(self,valor):\n",
        "    self.itens.insert(0,valor)\n",
        "\n",
        "  def pop(self):\n",
        "    self.itens.pop(0)\n",
        "\n",
        "  def topo(self):\n",
        "    return self.itens[0]\n",
        "\n",
        "\n",
        "pilha = Pilha()\n",
        "\n",
        "pilha.push(10)\n",
        "pilha.push(5)\n",
        "pilha.push(7)\n",
        "pilha.push(2)\n",
        "\n",
        "print(pilha.topo())\n",
        "\n",
        "pilha.pop()\n",
        "print(pilha.topo())\n",
        "\n",
        "pilha.pop()\n",
        "print(pilha.topo())\n",
        "\n",
        "pilha.pop()\n",
        "print(pilha.topo())\n",
        "\n"
      ],
      "execution_count": 0,
      "outputs": []
    },
    {
      "cell_type": "markdown",
      "metadata": {
        "id": "Nixf9FsZrDki",
        "colab_type": "text"
      },
      "source": [
        "# **Classe Fila utilizando como dado um \"List\" do Python**"
      ]
    },
    {
      "cell_type": "code",
      "metadata": {
        "id": "0U6pia9grHnS",
        "colab_type": "code",
        "colab": {}
      },
      "source": [
        "class Fila:\n",
        "\n",
        "  def __init__(self,itens=[]):\n",
        "    self.itens = itens\n",
        "\n",
        "  def add(self,valor):\n",
        "\n",
        "  def remove(self):\n",
        "\n",
        "  def topo(self):\n"
      ],
      "execution_count": 0,
      "outputs": []
    }
  ]
}