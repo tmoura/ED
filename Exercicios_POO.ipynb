{
  "nbformat": 4,
  "nbformat_minor": 0,
  "metadata": {
    "colab": {
      "name": "Resposta-Exercicios-POO.ipynb",
      "provenance": [],
      "authorship_tag": "ABX9TyOYTIX++BXAOIcuvCwxAfA4",
      "include_colab_link": true
    },
    "kernelspec": {
      "name": "python3",
      "display_name": "Python 3"
    }
  },
  "cells": [
    {
      "cell_type": "markdown",
      "metadata": {
        "id": "view-in-github",
        "colab_type": "text"
      },
      "source": [
        "<a href=\"https://colab.research.google.com/github/tmoura/ED/blob/master/Exercicios_POO.ipynb\" target=\"_parent\"><img src=\"https://colab.research.google.com/assets/colab-badge.svg\" alt=\"Open In Colab\"/></a>"
      ]
    },
    {
      "cell_type": "markdown",
      "metadata": {
        "id": "gI1PRH3Zgfwx"
      },
      "source": [
        "**1** Implemente uma classe chamada Data, que poderá ser usada para representar uma data. A classe deverá ter:\n",
        "\n",
        "a) Os atributos privados: dia, mês e ano;\n",
        "\n",
        "b) Construtor;\n",
        "\n",
        "c) Métodos acessadores (get) e modificadores (set);\n",
        "\n",
        "d) Método __str__(self), que devera retornar a data no formato **dd/mm/aaaa**.\n",
        "\n",
        "Escreva um programa para criar objetos dessa classe e testar os métodos."
      ]
    },
    {
      "cell_type": "code",
      "metadata": {
        "id": "rIBs2saYgeGq"
      },
      "source": [
        ""
      ],
      "execution_count": null,
      "outputs": []
    },
    {
      "cell_type": "markdown",
      "metadata": {
        "id": "53yAJy20kuEk"
      },
      "source": [
        "**2** Implemente uma classe chamada Aluno que deve ter:\n",
        "\n",
        "a) Atributo matricula (número inteiro), nome (string), notas (list);\n",
        "\n",
        "b) Construtor para inicializar todos os atributos;\n",
        "\n",
        "c) Métodos acessadores get_nome(self) e get_matricula(self). Este último deve retornar a\n",
        "matrícula como uma String formatada;\n",
        "\n",
        "d) Método media(self) que retorna a media das notas;\n",
        "\n",
        "e) Método alterador apenas para o nome, set_nome(self)\n",
        "\n",
        "f) Método adiciona_nota(self,nota), para adicionar uma nota à lista de notas do aluno.\n",
        "\n",
        "Escreva um programa para criar objetos dessa classe e testar os métodos."
      ]
    },
    {
      "cell_type": "code",
      "metadata": {
        "id": "PP1Lq5uJk4GA"
      },
      "source": [
        ""
      ],
      "execution_count": null,
      "outputs": []
    },
    {
      "cell_type": "markdown",
      "metadata": {
        "id": "Wu7w1A15nqcX"
      },
      "source": [
        "**3** Escreva uma classe que represente um país. Um país tem como atributos privados o seu nome, o nome da capital, sua dimensão em Km2 e uma lista de países com os quais ele faz fronteira.\n",
        "\n",
        "Represente a classe e forneça os seguintes construtores e método:\n",
        "\n",
        "a) Construtor que inicialize o nome, capital e a dimensão do país;\n",
        "\n",
        "b) Métodos de acesso para os atributos indicados no item (a);\n",
        "\n",
        "c) Método que retorne a lista de países que fazem fronteira;\n",
        "\n",
        "d) Método que adiciona o nome de país, a lista de fronteiras (verificar se o nome já existe na lista).\n",
        "\n",
        "e) Método __str__(self).\n",
        "\n",
        "Escreva um programa para criar objetos dessa classe e testar os métodos."
      ]
    },
    {
      "cell_type": "code",
      "metadata": {
        "id": "-S0HLPM00htt"
      },
      "source": [
        ""
      ],
      "execution_count": null,
      "outputs": []
    },
    {
      "cell_type": "markdown",
      "metadata": {
        "id": "3KqnYSMj3BzV"
      },
      "source": [
        "**4** Implemente uma classe ContaCorrente, cujos atributos dos seus objetos são numero, saldo e nome_titular. Ainda na classe, implemente os métodos depositar e sacar, parametrizando neles, o valor a ser depositado ou sacado respectivamente. O método depositar não possui retorno, devendo apenas incrementar o valor do saldo. O método sacar devera retornar um valor booleano (true – se sacou com sucesso, pois há saldo suficiente, decrementando-o; ou false caso contrário). A classe também deverá possuir um construtor, para inicializar os valores dos atributos dos objetos instanciados. Em seguida:\n",
        "\n",
        "a) Escreva um programa para criar dez instâncias (objetos) de ContaCorrente armazenando-os em uma list. Os valores para inicialização dos objetos deverão ser lidos do teclado;\n",
        "\n",
        "b) Criados os objetos, disponibilize um menu de operações para o usuário. Em um loop, o programa ficará solicitando ao usuário, qual o número da operação abaixo ele deseja realizar:\n",
        "\n",
        "1) Depositar: Ao digitar a opção 1, o programa deverá ler o número da conta e o valor a ser depositado, e realizar a operação.\n",
        "\n",
        "2) Sacar: Ao digitar a opção 2, o programa deverá ler o número da conta e o valor a ser sacado, e realizar a operação, testando se o saque ocorreu ou não.\n",
        "\n",
        "3) Saldo: Ao digitar a opção 3, o programa devera ler o número da conta e exibir o seu saldo.\n",
        "\n",
        "4) Sair: Ao digitar a opção 4, o programa deverá ser encerrado. O loop só será encerrado quando esta operação for informada."
      ]
    },
    {
      "cell_type": "code",
      "metadata": {
        "id": "i5usrt6s3eqY"
      },
      "source": [
        ""
      ],
      "execution_count": null,
      "outputs": []
    }
  ]
}