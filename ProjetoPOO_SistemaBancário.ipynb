{
  "nbformat": 4,
  "nbformat_minor": 0,
  "metadata": {
    "colab": {
      "name": "ProjetoPOO-SistemaBancário.ipynb",
      "provenance": [],
      "authorship_tag": "ABX9TyMUR19I5U9lbsdCQLSUR4oR",
      "include_colab_link": true
    },
    "kernelspec": {
      "name": "python3",
      "display_name": "Python 3"
    },
    "language_info": {
      "name": "python"
    }
  },
  "cells": [
    {
      "cell_type": "markdown",
      "metadata": {
        "id": "view-in-github",
        "colab_type": "text"
      },
      "source": [
        "<a href=\"https://colab.research.google.com/github/tmoura/ED/blob/master/ProjetoPOO_SistemaBanc%C3%A1rio.ipynb\" target=\"_parent\"><img src=\"https://colab.research.google.com/assets/colab-badge.svg\" alt=\"Open In Colab\"/></a>"
      ]
    },
    {
      "cell_type": "markdown",
      "metadata": {
        "id": "raMT9KFhF-hW"
      },
      "source": [
        "## Projeto POO 1 - mini Sistema **Bancário**"
      ]
    },
    {
      "cell_type": "code",
      "metadata": {
        "id": "pzpVwIpTF8zp"
      },
      "source": [
        "class Cliente:\n",
        "  def __init__(self, nome, cpf, salario, financiamentos = []):\n",
        "    self._nome = nome\n",
        "    self._cpf = cpf\n",
        "    self._salario = salario\n",
        "    self._financiamentos = financiamentos\n",
        "\n",
        "  @property\n",
        "  def nome(self):\n",
        "    return self._nome\n",
        "  @property\n",
        "  def cpf(self):\n",
        "    return self._cpf\n",
        "  @property\n",
        "  def salario(self):\n",
        "    return self._salario\n",
        "  @property\n",
        "  def financiamentos(self):\n",
        "    return self._financiamentos\n",
        "  \n",
        "  @nome.setter\n",
        "  def nome(self, novo):\n",
        "    self._nome = novo\n",
        "  @cpf.setter\n",
        "  def cpf(self, novo):\n",
        "    self._cpf = novo            \n",
        "  @salario.setter\n",
        "  def salario(self, novo):\n",
        "    self._salario = novo            \n",
        "  @financiamentos.setter\n",
        "  def financiamentos(self, novo):\n",
        "    self._financiamentos = novo\n",
        "\n",
        "  def total_financiado(self):\n",
        "                                      "
      ],
      "execution_count": null,
      "outputs": []
    },
    {
      "cell_type": "code",
      "metadata": {
        "id": "h2sHtYToI5nm"
      },
      "source": [
        "class Conta:\n",
        "  def __init__(self, saldo, id, cliente):\n",
        "    self._saldo = saldo\n",
        "    self._id = id\n",
        "    self._cliente = cliente\n",
        "\n",
        "  @property\n",
        "  def saldo(self):\n",
        "    return self._saldo\n",
        "  @property\n",
        "  def id(self):\n",
        "    return self._id\n",
        "  @property\n",
        "  def cliente(self):\n",
        "    return self._cliente\n",
        "\n",
        "  @saldo.setter\n",
        "  def saldo(self, novo):\n",
        "    self._saldo = novo\n",
        "  @id.setter\n",
        "  def id(self, novo):\n",
        "    self._id = novo\n",
        "  @cliente.setter\n",
        "  def cliente(self, novo):\n",
        "    self._cliente = novo\n",
        "  \n",
        "  def creditar(self,valor):\n",
        "    self._saldo += valor\n",
        "\n",
        "  def debitar(self,valor):\n",
        "    if self._saldo >= valor:\n",
        "      self._saldo -= valor\n",
        "  \n",
        "  def transferencia(self, valor, outra_conta):\n",
        "    if self._saldo >= valor:\n",
        "      self._saldo -= valor\n",
        "      outra_conta.creditar(valor)"
      ],
      "execution_count": null,
      "outputs": []
    },
    {
      "cell_type": "code",
      "metadata": {
        "id": "uZ15uNpkLAGT"
      },
      "source": [
        "class Banco:\n",
        "  def __init__(self,nome, contas = [], financiamentos = []):\n",
        "    self._nome = nome\n",
        "    self._contas = contas\n",
        "    self._financiamentos = financiamentos\n",
        "  \n",
        "  @property\n",
        "  def nome(self):\n",
        "    return self._nome\n",
        "  @property\n",
        "  def contas(self):\n",
        "    return self._contas\n",
        "  @property\n",
        "  def financiamentos(self):\n",
        "    return self._financiamentos\n",
        "  \n",
        "  @nome.setter\n",
        "  def nome(self, novo):\n",
        "    self._nome = novo\n",
        "  @contas.setter\n",
        "  def contas(self, novo):\n",
        "    self._contas = novo\n",
        "  @financiamentos.setter\n",
        "  def financiamentos(self, novo):\n",
        "    self._financiamentos = novo\n",
        "\n",
        "  def total_valor_contas(self):\n",
        "    soma = 0\n",
        "    for c in self._contas:\n",
        "      soma += c.saldo\n",
        "    return soma\n",
        "  \n",
        "  def financiamentos_cliente(self,cpf):\n",
        "    finan_cli = []\n",
        "\n",
        "    for f in self._financiamentos:\n",
        "      if f.cliente.cpf == cpf:\n",
        "         finan_cli.append(f)\n",
        "    \n",
        "    return finan_cli"
      ],
      "execution_count": null,
      "outputs": []
    }
  ]
}