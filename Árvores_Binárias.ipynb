{
  "nbformat": 4,
  "nbformat_minor": 0,
  "metadata": {
    "colab": {
      "name": "Árvores Binárias.ipynb",
      "provenance": [],
      "collapsed_sections": [],
      "authorship_tag": "ABX9TyMPdbBfp1BZ/hhtugLcyYiQ",
      "include_colab_link": true
    },
    "kernelspec": {
      "name": "python3",
      "display_name": "Python 3"
    }
  },
  "cells": [
    {
      "cell_type": "markdown",
      "metadata": {
        "id": "view-in-github",
        "colab_type": "text"
      },
      "source": [
        "<a href=\"https://colab.research.google.com/github/tmoura/ED/blob/master/%C3%81rvores_Bin%C3%A1rias.ipynb\" target=\"_parent\"><img src=\"https://colab.research.google.com/assets/colab-badge.svg\" alt=\"Open In Colab\"/></a>"
      ]
    },
    {
      "cell_type": "markdown",
      "metadata": {
        "id": "nxAYtn8ZP4Cn"
      },
      "source": [
        "## Classe BinaryTreeException"
      ]
    },
    {
      "cell_type": "code",
      "metadata": {
        "id": "yEPLqvrEP8l8"
      },
      "source": [
        "class BinaryTreeException(Exception):\n",
        "  def __init__(self, mensagem):\n",
        "    super().__init__(mensagem)"
      ],
      "execution_count": 2,
      "outputs": []
    },
    {
      "cell_type": "markdown",
      "metadata": {
        "id": "GbywkOCYMHmo"
      },
      "source": [
        "## Classe Nó"
      ]
    },
    {
      "cell_type": "code",
      "metadata": {
        "id": "O9YAKaOcMFPh"
      },
      "source": [
        "class Node:\n",
        "  def __init__(self, dado = None):\n",
        "    self.__dado = dado\n",
        "    self.__esq = None\n",
        "    self.__dir = None\n",
        "    self.__pai = None\n",
        "  \n",
        "  # get\n",
        "  @property\n",
        "  def dado(self):\n",
        "    return self.__dado\n",
        "  \n",
        "  # set\n",
        "  @dado.setter\n",
        "  def dado(self, novo):\n",
        "    self.__dado = novo\n",
        "\n",
        "  # get\n",
        "  @property\n",
        "  def esq(self):\n",
        "    return self.__esq\n",
        "  \n",
        "  # set\n",
        "  @esq.setter\n",
        "  def esq(self, novo):\n",
        "    if self.__esq != None:\n",
        "      raise BinaryTreeException('O nó esquerdo já existe')\n",
        "    else:\n",
        "      self.__esq = novo\n",
        "\n",
        "  # get\n",
        "  @property\n",
        "  def dir(self):\n",
        "    return self.__dir\n",
        "  \n",
        "  # set\n",
        "  @dir.setter\n",
        "  def dir(self, novo):\n",
        "    if self.dir != None:\n",
        "      raise BinaryTreeException('O nó direito já existe')\n",
        "    else:\n",
        "      self.__dir = novo\n",
        "\n",
        "  # get\n",
        "  @property\n",
        "  def pai(self):\n",
        "    return self.__pai\n",
        "  \n",
        "  # set\n",
        "  @pai.setter\n",
        "  def pai(self, novo):\n",
        "    self.__pai = novo"
      ],
      "execution_count": 3,
      "outputs": []
    },
    {
      "cell_type": "markdown",
      "metadata": {
        "id": "zHQdWPHmQJiC"
      },
      "source": [
        "## Classe BinaryTree"
      ]
    },
    {
      "cell_type": "code",
      "metadata": {
        "id": "01RsFWSCM7tP"
      },
      "source": [
        "class BinaryTree:\n",
        "  def em_ordem(self, arvore):\n",
        "    if arvore != None:\n",
        "      self.em_ordem(arvore.esq)\n",
        "      print(arvore.dado, end='')  #Visita a raiz\n",
        "      self.em_ordem(arvore.dir)"
      ],
      "execution_count": 11,
      "outputs": []
    },
    {
      "cell_type": "code",
      "metadata": {
        "id": "_PuJajLnQy0x"
      },
      "source": [
        "if __name__ == \"__main__\":\n",
        "  raiz = Node('A')\n",
        "  raiz.esq = Node('B')\n",
        "  raiz.dir = Node('C')\n",
        "\n",
        "  p = raiz.esq # Nó B\n",
        "  q = raiz.dir # Nó C\n",
        "\n",
        "  p.esq = Node('D')\n",
        "  p.dir = None\n",
        "\n",
        "  q.esq = Node('E')\n",
        "  q.dir = Node('F')\n",
        "\n",
        "  r = p.esq # Nó D\n",
        "\n",
        "  r.esq = None\n",
        "  r.dir = Node('G')\n",
        "\n",
        "  r = q.esq\n",
        "\n",
        "  r.esq = Node('H')\n",
        "  r.dir = Node('I')\n",
        "\n",
        "  tree = BinaryTree()\n",
        "  tree.em_ordem(raiz)"
      ],
      "execution_count": null,
      "outputs": []
    }
  ]
}