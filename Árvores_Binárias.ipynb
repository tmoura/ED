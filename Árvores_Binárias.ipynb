{
  "nbformat": 4,
  "nbformat_minor": 0,
  "metadata": {
    "colab": {
      "name": "Árvores Binárias.ipynb",
      "provenance": [],
      "collapsed_sections": [],
      "authorship_tag": "ABX9TyM6uYFogUqb5siXeYRUPM+p",
      "include_colab_link": true
    },
    "kernelspec": {
      "name": "python3",
      "display_name": "Python 3"
    }
  },
  "cells": [
    {
      "cell_type": "markdown",
      "metadata": {
        "id": "view-in-github",
        "colab_type": "text"
      },
      "source": [
        "<a href=\"https://colab.research.google.com/github/tmoura/ED/blob/master/%C3%81rvores_Bin%C3%A1rias.ipynb\" target=\"_parent\"><img src=\"https://colab.research.google.com/assets/colab-badge.svg\" alt=\"Open In Colab\"/></a>"
      ]
    },
    {
      "cell_type": "markdown",
      "metadata": {
        "id": "nxAYtn8ZP4Cn"
      },
      "source": [
        "## Classe BinaryTreeException"
      ]
    },
    {
      "cell_type": "code",
      "metadata": {
        "id": "yEPLqvrEP8l8"
      },
      "source": [
        "class BinaryTreeException(Exception):\n",
        "  def __init__(self, mensagem):\n",
        "    super().__init__(mensagem)"
      ],
      "execution_count": null,
      "outputs": []
    },
    {
      "cell_type": "markdown",
      "metadata": {
        "id": "GbywkOCYMHmo"
      },
      "source": [
        "## Classe Nó"
      ]
    },
    {
      "cell_type": "code",
      "metadata": {
        "id": "O9YAKaOcMFPh"
      },
      "source": [
        "class Node:\n",
        "  def __init__(self, dado = None):\n",
        "    self.__dado = dado\n",
        "    self.__esq = None\n",
        "    self.__dir = None\n",
        "    self.__pai = None\n",
        "  \n",
        "  # get\n",
        "  @property\n",
        "  def dado(self):\n",
        "    return self.__dado\n",
        "  \n",
        "  # set\n",
        "  @dado.setter\n",
        "  def dado(self, novo):\n",
        "    self.__dado = novo\n",
        "\n",
        "  # get\n",
        "  @property\n",
        "  def esq(self):\n",
        "    return self.__esq\n",
        "  \n",
        "  # set\n",
        "  @esq.setter\n",
        "  def esq(self, novo):\n",
        "    if self.__esq != None:\n",
        "      raise BinaryTreeException('O nó esquerdo já existe')\n",
        "    else:\n",
        "      self.__esq = novo\n",
        "\n",
        "  # get\n",
        "  @property\n",
        "  def dir(self):\n",
        "    return self.__dir\n",
        "  \n",
        "  # set\n",
        "  @dir.setter\n",
        "  def dir(self, novo):\n",
        "    if self.dir != None:\n",
        "      raise BinaryTreeException('O nó direito já existe')\n",
        "    else:\n",
        "      self.__dir = novo\n",
        "\n",
        "  # get\n",
        "  @property\n",
        "  def pai(self):\n",
        "    return self.__pai\n",
        "  \n",
        "  # set\n",
        "  @pai.setter\n",
        "  def pai(self, novo):\n",
        "    self.__pai = novo"
      ],
      "execution_count": null,
      "outputs": []
    },
    {
      "cell_type": "markdown",
      "metadata": {
        "id": "zHQdWPHmQJiC"
      },
      "source": [
        "## Classe BinaryTree"
      ]
    },
    {
      "cell_type": "code",
      "metadata": {
        "id": "01RsFWSCM7tP"
      },
      "source": [
        "class BinaryTree:\n",
        "  def em_ordem(self, arvore):\n",
        "    if arvore != None:\n",
        "      self.em_ordem(arvore.esq)\n",
        "      print(arvore.dado, end='')  #Visita a raiz\n",
        "      self.em_ordem(arvore.dir)"
      ],
      "execution_count": null,
      "outputs": []
    },
    {
      "cell_type": "markdown",
      "metadata": {
        "id": "MeZ05zXeNnGe"
      },
      "source": [
        "## Árvores Binárias <br><br> Criação da árvore abaixo: <br>![Captura de tela de 2020-10-21 13-22-22.png](data:image/png;base64,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)\n"
      ]
    },
    {
      "cell_type": "code",
      "metadata": {
        "id": "_PuJajLnQy0x"
      },
      "source": [
        "if __name__ == \"__main__\":\n",
        "  raiz = Node('A')\n",
        "  raiz.esq = Node('B')\n",
        "  raiz.dir = Node('C')\n",
        "\n",
        "  p = raiz.esq # Nó B\n",
        "  q = raiz.dir # Nó C\n",
        "\n",
        "  p.esq = Node('D')\n",
        "  p.dir = None\n",
        "\n",
        "  q.esq = Node('E')\n",
        "  q.dir = Node('F')\n",
        "\n",
        "  r = p.esq # Nó D\n",
        "\n",
        "  r.esq = None\n",
        "  r.dir = Node('G')\n",
        "\n",
        "  r = q.esq\n",
        "\n",
        "  r.esq = Node('H')\n",
        "  r.dir = Node('I')\n",
        "\n",
        "  tree = BinaryTree()\n",
        "  tree.em_ordem(raiz)"
      ],
      "execution_count": null,
      "outputs": []
    }
  ]
}