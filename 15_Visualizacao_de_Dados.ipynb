{
  "nbformat": 4,
  "nbformat_minor": 0,
  "metadata": {
    "colab": {
      "provenance": [],
      "authorship_tag": "ABX9TyOm9OWxrywf1RQrb09bCMxC",
      "include_colab_link": true
    },
    "kernelspec": {
      "name": "python3",
      "display_name": "Python 3"
    },
    "language_info": {
      "name": "python"
    }
  },
  "cells": [
    {
      "cell_type": "markdown",
      "metadata": {
        "id": "view-in-github",
        "colab_type": "text"
      },
      "source": [
        "<a href=\"https://colab.research.google.com/github/tmoura/ED/blob/master/15_Visualizacao_de_Dados.ipynb\" target=\"_parent\"><img src=\"https://colab.research.google.com/assets/colab-badge.svg\" alt=\"Open In Colab\"/></a>"
      ]
    },
    {
      "cell_type": "code",
      "execution_count": 1,
      "metadata": {
        "id": "QtZDZLu9Tiwd"
      },
      "outputs": [],
      "source": [
        "import matplotlib.pyplot as plt\n",
        "import seaborn as sns\n",
        "\n",
        "import numpy as np\n",
        "import pandas as pd"
      ]
    },
    {
      "cell_type": "markdown",
      "source": [
        "### Gráfico de Linha"
      ],
      "metadata": {
        "id": "MVP4MjQrUFDC"
      }
    },
    {
      "cell_type": "code",
      "source": [
        "anos = [2009, 2010, 2011, 2012, 2013, 2014, 2015, 2016, 2017]\n",
        "divorcios = [171747, 239070, 347583, 341600, 324921, 341181, 328960, 344526, 373216]\n",
        "\n",
        "plt.plot(anos, divorcios)\n",
        "\n",
        "plt.title('Divórcios consensuais concedidos em 1ª instância ou por escritura', fontsize=14)\n",
        "plt.xlabel('Anos', fontsize=12)\n",
        "plt.ylabel('Quantidade de divórcios', fontsize=12)\n",
        "\n",
        "plt.tick_params(axis='both', labelsize=10)"
      ],
      "metadata": {
        "id": "Tuh6m2M9UApz"
      },
      "execution_count": null,
      "outputs": []
    },
    {
      "cell_type": "markdown",
      "source": [
        "### Gráfico de Barras"
      ],
      "metadata": {
        "id": "RrdqLrGHU2SW"
      }
    },
    {
      "cell_type": "code",
      "source": [
        "anos = [2009, 2010, 2011, 2012, 2013, 2014, 2015, 2016, 2017]\n",
        "divorcios = [171747, 239070, 347583, 341600, 324921, 341181, 328960, 344526, 373216]\n",
        "\n",
        "plt.bar(anos, divorcios, label='Total')\n",
        "\n",
        "plt.title('Divórcios consensuais concedidos em 1ª instância ou por escritura', fontsize=14)\n",
        "plt.xlabel('Anos', fontsize=12)\n",
        "plt.ylabel('Quantidade de divórcios', fontsize=12)\n",
        "plt.legend()\n",
        "\n",
        "plt.tick_params(axis='both', labelsize=10)"
      ],
      "metadata": {
        "id": "ujdRHVcgU5xD"
      },
      "execution_count": null,
      "outputs": []
    }
  ]
}