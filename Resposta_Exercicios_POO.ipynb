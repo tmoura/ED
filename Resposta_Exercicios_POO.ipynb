{
  "nbformat": 4,
  "nbformat_minor": 0,
  "metadata": {
    "colab": {
      "name": "Resposta-Exercicios-POO.ipynb",
      "provenance": [],
      "authorship_tag": "ABX9TyOHUqm37RY2WXR60mLdY+jZ",
      "include_colab_link": true
    },
    "kernelspec": {
      "name": "python3",
      "display_name": "Python 3"
    }
  },
  "cells": [
    {
      "cell_type": "markdown",
      "metadata": {
        "id": "view-in-github",
        "colab_type": "text"
      },
      "source": [
        "<a href=\"https://colab.research.google.com/github/tmoura/ED/blob/master/Resposta_Exercicios_POO.ipynb\" target=\"_parent\"><img src=\"https://colab.research.google.com/assets/colab-badge.svg\" alt=\"Open In Colab\"/></a>"
      ]
    },
    {
      "cell_type": "markdown",
      "metadata": {
        "id": "gI1PRH3Zgfwx",
        "colab_type": "text"
      },
      "source": [
        "**1** Implemente uma classe chamada Data, que poderá ser usada para representar uma data. A classe deverá ter:\n",
        "\n",
        "a) Os atributos privados: dia, mês e ano;\n",
        "\n",
        "b) Construtor;\n",
        "\n",
        "c) Métodos acessadores (get) e modificadores (set);\n",
        "\n",
        "d) Método __str__(self), que devera retornar a data no formato **dd/mm/aaaa**.\n",
        "\n",
        "Escreva um programa para criar objetos dessa classe e testar os métodos."
      ]
    },
    {
      "cell_type": "code",
      "metadata": {
        "id": "rIBs2saYgeGq",
        "colab_type": "code",
        "colab": {}
      },
      "source": [
        "class Data:\n",
        "  def __init__(self, dia, mes, ano):\n",
        "    self.__dia = dia\n",
        "    self.__mes = mes\n",
        "    self.__ano = ano\n",
        "  \n",
        "  # Gets\n",
        "  @property\n",
        "  def dia(self):\n",
        "    return self.__dia\n",
        "\n",
        "  @property\n",
        "  def mes(self):\n",
        "    return self.__mes\n",
        "\n",
        "  @property\n",
        "  def ano(self):\n",
        "    return self.__ano\n",
        "\n",
        "  # Sets\n",
        "  @dia.setter\n",
        "  def dia(self, novo):\n",
        "    self.__dia = novo\n",
        "\n",
        "  @mes.setter\n",
        "  def mes(self, novo):\n",
        "    self.__mes = novo\n",
        "\n",
        "  @ano.setter\n",
        "  def ano(self, novo):\n",
        "    self.__ano = novo\n",
        "\n",
        "  def __str__(self):\n",
        "\n",
        "    return f'{self.__dia}/{self.__mes}/{self.__ano}'"
      ],
      "execution_count": null,
      "outputs": []
    }
  ]
}