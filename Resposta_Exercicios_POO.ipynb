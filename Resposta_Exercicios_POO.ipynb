{
  "nbformat": 4,
  "nbformat_minor": 0,
  "metadata": {
    "colab": {
      "name": "Resposta-Exercicios-POO.ipynb",
      "provenance": [],
      "authorship_tag": "ABX9TyO53uwuCZfURX0U8gsjAnqO",
      "include_colab_link": true
    },
    "kernelspec": {
      "name": "python3",
      "display_name": "Python 3"
    }
  },
  "cells": [
    {
      "cell_type": "markdown",
      "metadata": {
        "id": "view-in-github",
        "colab_type": "text"
      },
      "source": [
        "<a href=\"https://colab.research.google.com/github/tmoura/ED/blob/master/Resposta_Exercicios_POO.ipynb\" target=\"_parent\"><img src=\"https://colab.research.google.com/assets/colab-badge.svg\" alt=\"Open In Colab\"/></a>"
      ]
    },
    {
      "cell_type": "markdown",
      "metadata": {
        "id": "gI1PRH3Zgfwx",
        "colab_type": "text"
      },
      "source": [
        "**1** Implemente uma classe chamada Data, que poderá ser usada para representar uma data. A classe deverá ter:\n",
        "\n",
        "a) Os atributos privados: dia, mês e ano;\n",
        "\n",
        "b) Construtor;\n",
        "\n",
        "c) Métodos acessadores (get) e modificadores (set);\n",
        "\n",
        "d) Método __str__(self), que devera retornar a data no formato **dd/mm/aaaa**.\n",
        "\n",
        "Escreva um programa para criar objetos dessa classe e testar os métodos."
      ]
    },
    {
      "cell_type": "code",
      "metadata": {
        "id": "rIBs2saYgeGq",
        "colab_type": "code",
        "colab": {}
      },
      "source": [
        "class Data:\n",
        "  def __init__(self, dia, mes, ano):\n",
        "    self.__dia = dia\n",
        "    self.__mes = mes\n",
        "    self.__ano = ano\n",
        "  \n",
        "  # Gets\n",
        "  @property\n",
        "  def dia(self):\n",
        "    return self.__dia\n",
        "\n",
        "  @property\n",
        "  def mes(self):\n",
        "    return self.__mes\n",
        "\n",
        "  @property\n",
        "  def ano(self):\n",
        "    return self.__ano\n",
        "\n",
        "  # Sets\n",
        "  @dia.setter\n",
        "  def dia(self, novo):\n",
        "    self.__dia = novo\n",
        "\n",
        "  @mes.setter\n",
        "  def mes(self, novo):\n",
        "    self.__mes = novo\n",
        "\n",
        "  @ano.setter\n",
        "  def ano(self, novo):\n",
        "    self.__ano = novo\n",
        "\n",
        "  def __str__(self):\n",
        "\n",
        "    # Converter os números para String\n",
        "    dia = str(self.__dia)\n",
        "    mes = str(self.__mes)\n",
        "\n",
        "    # zfill -> Preenche com 0 a esquerda do número\n",
        "    # O argumento 2 significa que o número será composto por 2 algarismos,\n",
        "    # se só tiver 1, completa o resto com 0 (zero)\n",
        "\n",
        "    return f'{dia.zfill(2)}/{mes.zfill(2)}/{self.__ano}'\n",
        "\n",
        "\n",
        "\n",
        "#### Testando\n",
        "d1 = Data(30,10,2019)\n",
        "print(d1)\n",
        "\n",
        "d2 = Data(4,8,2021)\n",
        "print(d2)"
      ],
      "execution_count": null,
      "outputs": []
    },
    {
      "cell_type": "markdown",
      "metadata": {
        "id": "53yAJy20kuEk",
        "colab_type": "text"
      },
      "source": [
        "**2** Implemente uma classe chamada Aluno que deve ter:\n",
        "\n",
        "a) Atributo matricula (número inteiro), nome (string), notas (list);\n",
        "\n",
        "b) Construtor para inicializar todos os atributos;\n",
        "\n",
        "c) Métodos acessadores get_nome(self) e get_matricula(self). Este último deve retornar a\n",
        "matrícula como uma String formatada;\n",
        "\n",
        "d) Método media(self) que retorna a media das notas;\n",
        "\n",
        "e) Método alterador apenas para o nome, set_nome(self)\n",
        "\n",
        "f) Método adiciona_nota(self,nota), para adicionar uma nota à lista de notas do aluno.\n",
        "\n",
        "Escreva um programa para criar objetos dessa classe e testar os métodos."
      ]
    },
    {
      "cell_type": "code",
      "metadata": {
        "id": "PP1Lq5uJk4GA",
        "colab_type": "code",
        "colab": {}
      },
      "source": [
        "class Aluno:\n",
        "  def __init__(self, matricula, nome, notas = []):\n",
        "    self.__matricula = matricula\n",
        "    self.__nome = nome\n",
        "    self.__notas = notas\n",
        "\n",
        "  # Gets\n",
        "  @property\n",
        "  def matricula(self):\n",
        "    return str(self.__matricula)\n",
        "\n",
        "  @property\n",
        "  def nome(self):\n",
        "    return self.__nome\n",
        "\n",
        "  @property\n",
        "  def notas(self):\n",
        "    return self.__notas\n",
        "\n",
        "  # Só tem método set para nome\n",
        "  @nome.setter\n",
        "  def nome(self, novo):\n",
        "    self.__nome = novo\n",
        "\n",
        "  def media(self):\n",
        "    soma = sum(self.__notas)\n",
        "    media = soma / len(self.__notas)\n",
        "\n",
        "    return media\n",
        "\n",
        "  def adiciona_nota(self, nota):\n",
        "    self.__notas.append(nota)\n",
        "\n",
        "\n",
        "# Testando\n",
        "\n",
        "a = Aluno(12345,'Fulano',[3,5,10])\n",
        "\n",
        "print(a.media())\n",
        "\n",
        "a.adiciona_nota(7)\n",
        "\n",
        "print(a.media())"
      ],
      "execution_count": null,
      "outputs": []
    }
  ]
}