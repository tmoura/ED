{
  "nbformat": 4,
  "nbformat_minor": 0,
  "metadata": {
    "colab": {
      "provenance": [],
      "authorship_tag": "ABX9TyM8xfHOgcg5YZ+7+ja5dwzs",
      "include_colab_link": true
    },
    "kernelspec": {
      "name": "python3",
      "display_name": "Python 3"
    },
    "language_info": {
      "name": "python"
    }
  },
  "cells": [
    {
      "cell_type": "markdown",
      "metadata": {
        "id": "view-in-github",
        "colab_type": "text"
      },
      "source": [
        "<a href=\"https://colab.research.google.com/github/tmoura/ED/blob/master/ExemplosPOO.ipynb\" target=\"_parent\"><img src=\"https://colab.research.google.com/assets/colab-badge.svg\" alt=\"Open In Colab\"/></a>"
      ]
    },
    {
      "cell_type": "markdown",
      "source": [
        "# Exemplos dos Slides de POO"
      ],
      "metadata": {
        "id": "PwBAQK3eFkiu"
      }
    },
    {
      "cell_type": "markdown",
      "source": [
        "### Classe Ponto e criação do Objeto Ponto - ATRIBUTOS"
      ],
      "metadata": {
        "id": "2c2i8oYBFtSF"
      }
    },
    {
      "cell_type": "code",
      "execution_count": null,
      "metadata": {
        "id": "JGdF_2SMFhDX"
      },
      "outputs": [],
      "source": [
        "class Ponto:\n",
        "  def __init__ (self, x, y):\n",
        "    self.x = x\n",
        "    self.y = y\n",
        "\n",
        "\n",
        "if __name__ == \"__main__\":\n",
        "    p = Ponto(2,3)\n",
        "    print(f\"As coordenadas do ponto são: ({p.x},{p.y})\")"
      ]
    },
    {
      "cell_type": "markdown",
      "source": [
        "### Classe Ponto e criação do Objeto Ponto - ATRIBUTOS e MÉTODO"
      ],
      "metadata": {
        "id": "2udExTU7HgPJ"
      }
    },
    {
      "cell_type": "code",
      "source": [
        "class Ponto:\n",
        "  def __init__ (self, x, y):\n",
        "    self.x = x\n",
        "    self.y = y\n",
        "\n",
        "  def quadrante(self):\n",
        "    if self.x >=0 and self.y >= 0:\n",
        "      return \"Q1\"\n",
        "    elif self.x >=0 and self.y < 0:\n",
        "      return \"Q2\"\n",
        "    elif self.x < 0 and self.y >= 0:\n",
        "      return \"Q3\"\n",
        "    else:\n",
        "      return \"Q4\"\n",
        "\n",
        "if __name__ == \"__main__\":\n",
        "    p = Ponto(2,3)\n",
        "    print(f\"As coordenadas do ponto são: ({p.x},{p.y})\")\n",
        "    print(f\"O ponto faz parte do Quadrante: ({p.quadrante()})\")"
      ],
      "metadata": {
        "id": "xQbj-48DHpPW"
      },
      "execution_count": null,
      "outputs": []
    },
    {
      "cell_type": "code",
      "source": [],
      "metadata": {
        "id": "-o_ZzfcdH-Zx"
      },
      "execution_count": null,
      "outputs": []
    }
  ]
}