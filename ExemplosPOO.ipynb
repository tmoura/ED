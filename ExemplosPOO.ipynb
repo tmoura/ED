{
  "nbformat": 4,
  "nbformat_minor": 0,
  "metadata": {
    "colab": {
      "provenance": [],
      "name": "ExemplosPOO.ipynb",
      "include_colab_link": true
    },
    "kernelspec": {
      "name": "python3",
      "display_name": "Python 3"
    },
    "language_info": {
      "name": "python"
    }
  },
  "cells": [
    {
      "cell_type": "markdown",
      "metadata": {
        "id": "view-in-github",
        "colab_type": "text"
      },
      "source": [
        "<a href=\"https://colab.research.google.com/github/tmoura/ED/blob/master/ExemplosPOO.ipynb\" target=\"_parent\"><img src=\"https://colab.research.google.com/assets/colab-badge.svg\" alt=\"Open In Colab\"/></a>"
      ]
    },
    {
      "cell_type": "markdown",
      "source": [
        "# Exemplos dos Slides de POO"
      ],
      "metadata": {
        "id": "PwBAQK3eFkiu"
      }
    },
    {
      "cell_type": "markdown",
      "source": [
        "### Classe Ponto e criação do Objeto Ponto - ATRIBUTOS"
      ],
      "metadata": {
        "id": "2c2i8oYBFtSF"
      }
    },
    {
      "cell_type": "code",
      "execution_count": null,
      "metadata": {
        "id": "JGdF_2SMFhDX"
      },
      "outputs": [],
      "source": [
        "class Ponto:\n",
        "  def __init__ (self, x, y):\n",
        "    self.x = x\n",
        "    self.y = y\n",
        "\n",
        "\n",
        "if __name__ == \"__main__\":\n",
        "    p1 = Ponto(2,3)\n",
        "    print(f\"As coordenadas do ponto 1 são: ({p1.x},{p1.y})\")\n",
        "\n",
        "    p2 = Ponto(5,5)\n",
        "    print(f\"As coordenadas do ponto 2 são: ({p2.x},{p2.y})\")"
      ]
    },
    {
      "cell_type": "markdown",
      "source": [
        "### Classe Ponto e criação do Objeto Ponto - ATRIBUTOS e MÉTODO"
      ],
      "metadata": {
        "id": "2udExTU7HgPJ"
      }
    },
    {
      "cell_type": "code",
      "source": [
        "class Ponto:\n",
        "  def __init__ (self, x, y):\n",
        "    self.x = x\n",
        "    self.y = y\n",
        "\n",
        "  def quadrante(self):\n",
        "    if self.x > 0 and self.y > 0:\n",
        "      return \"Q1\"\n",
        "    elif self.x < 0 and self.y > 0:\n",
        "      return \"Q2\"\n",
        "    elif self.x < 0 and self.y < 0:\n",
        "      return \"Q3\"\n",
        "    elif self.x > 0 and self.y < 0:\n",
        "      return \"Q4\"\n",
        "    else:\n",
        "      return \"Nenhum dos Quadrantes\"\n",
        "\n",
        "if __name__ == \"__main__\":\n",
        "    p = Ponto(2,3)\n",
        "    print(f\"As coordenadas do ponto são: ({p.x},{p.y})\")\n",
        "    print(f\"O ponto faz parte do Quadrante: {p.quadrante()}\")"
      ],
      "metadata": {
        "id": "xQbj-48DHpPW"
      },
      "execution_count": null,
      "outputs": []
    },
    {
      "cell_type": "markdown",
      "source": [
        "### Classe Retângulo"
      ],
      "metadata": {
        "id": "4ZcRO8J5h7Jq"
      }
    },
    {
      "cell_type": "code",
      "source": [
        "class Retangulo:\n",
        "  def __init__(self, base, altura):\n",
        "    self.base = base\n",
        "    self.altura = altura\n",
        "\n",
        "  def calcula_area(self):\n",
        "    return self.base * self.altura\n",
        "\n",
        "  def eh_quadrado(self):\n",
        "    if self.base == self.altura:\n",
        "      return \"Sim\"\n",
        "    else:\n",
        "      return \"Não\"\n",
        "\n",
        "\n",
        "if __name__ == \"__main__\":\n",
        "    rect = Retangulo(2,3)\n",
        "    print(f\"A área do retângulo é: {rect.calcula_area()}\")\n",
        "    print(f\"É quadrado? {rect.eh_quadrado()}\")"
      ],
      "metadata": {
        "id": "-o_ZzfcdH-Zx"
      },
      "execution_count": null,
      "outputs": []
    },
    {
      "cell_type": "markdown",
      "source": [
        "###Exemplo de Encapsulamento CONVENCIONAL com a classe Aluno"
      ],
      "metadata": {
        "id": "wDIY-AynjBt1"
      }
    },
    {
      "cell_type": "code",
      "source": [
        "class Aluno:\n",
        "  def __init__(self, nome, idade):\n",
        "    self._nome = nome\n",
        "    self._idade = idade\n",
        "\n",
        "  def get_nome(self):\n",
        "    return self._nome\n",
        "\n",
        "  def set_nome(self, nome):\n",
        "    self._nome = nome\n",
        "\n",
        "  def get_idade(self):\n",
        "    return self._idade\n",
        "\n",
        "  def set_idade(self, idade):\n",
        "    if idade > 0 and idade <= 100:\n",
        "      self._idade = idade\n",
        "\n",
        "if __name__ == \"__main__\":\n",
        "    aluno = Aluno(\"Carlos\",20)\n",
        "    print(f\"O aluno se chama: {aluno.get_nome()}\")\n",
        "    print(f\"O aluno tem {aluno.get_idade()} anos\")\n",
        "\n",
        "    # Teste com idade negativa\n",
        "    aluno.set_idade(-35)\n",
        "\n",
        "    print(f\"O aluno tem {aluno.get_idade()} anos\")\n",
        "\n",
        "    print(f\"O aluno tem {aluno._idade} anos\") # ainda consigo acessar usando o nome do atributo"
      ],
      "metadata": {
        "id": "VM-aPO8RjF8j"
      },
      "execution_count": null,
      "outputs": []
    },
    {
      "cell_type": "markdown",
      "source": [
        "###Exemplo de Encapsulamento NAME MANGLING com a classe Aluno"
      ],
      "metadata": {
        "id": "szf7fm8WlyEs"
      }
    },
    {
      "cell_type": "code",
      "source": [
        "class Aluno:\n",
        "  def __init__(self, nome, idade):\n",
        "    self.__nome = nome\n",
        "    self.__idade = idade\n",
        "\n",
        "  def get_nome(self):\n",
        "    return self.__nome\n",
        "\n",
        "  def set_nome(self, nome):\n",
        "    self.__nome = nome\n",
        "\n",
        "  def get_idade(self):\n",
        "    return self.__idade\n",
        "\n",
        "  def set_idade(self, idade):\n",
        "    if idade > 0 and idade <= 100:\n",
        "      self.__idade = idade\n",
        "\n",
        "if __name__ == \"__main__\":\n",
        "    aluno = Aluno(\"Carlos\",20)\n",
        "    print(f\"O aluno se chama: {aluno.get_nome()}\")\n",
        "    print(f\"O aluno tem {aluno.get_idade()} anos\")\n",
        "\n",
        "    # Teste com idade negativa\n",
        "    aluno.set_idade(-35)\n",
        "\n",
        "    print(f\"O aluno tem {aluno.get_idade()} anos\")\n",
        "\n",
        "    #print(f\"O aluno tem {aluno.__idade} anos\") # não consigo mais acessar\n",
        "\n",
        "    print(f\"O aluno tem {aluno._Aluno__idade} anos\") # Só acessa usando => _<nome_da_classe>"
      ],
      "metadata": {
        "id": "MKsUkLKdmDIk"
      },
      "execution_count": null,
      "outputs": []
    },
    {
      "cell_type": "markdown",
      "source": [
        "\n",
        "###Exemplo de Encapsulamento com NAME MANGLING e ANOTAÇÕES com a classe Aluno"
      ],
      "metadata": {
        "id": "J7LOOG_nmnR0"
      }
    },
    {
      "cell_type": "code",
      "source": [
        "class Aluno:\n",
        "  def __init__(self, nome, idade):\n",
        "    self.__nome = nome\n",
        "    self.__idade = idade\n",
        "\n",
        "  @property\n",
        "  def nome(self):\n",
        "    return self.__nome\n",
        "\n",
        "  @nome.setter\n",
        "  def nome(self, nome):\n",
        "    self.__nome = nome\n",
        "\n",
        "  @property\n",
        "  def idade(self):\n",
        "    return self.__idade\n",
        "\n",
        "  @idade.setter\n",
        "  def idade(self, idade):\n",
        "    if idade > 0 and idade <= 100:\n",
        "      self.__idade = idade\n",
        "\n",
        "if __name__ == \"__main__\":\n",
        "    aluno = Aluno(\"Carlos\",20)\n",
        "    print(f\"O aluno se chama: {aluno.nome}\")\n",
        "    print(f\"O aluno tem {aluno.idade} anos\")\n",
        "\n",
        "    # Teste com idade negativa\n",
        "    aluno.idade = -35\n",
        "\n",
        "    print(f\"O aluno tem {aluno.idade} anos\")"
      ],
      "metadata": {
        "id": "yfKjHGspmsc5"
      },
      "execution_count": null,
      "outputs": []
    },
    {
      "cell_type": "markdown",
      "source": [
        "### Exemplo de relacionamento com as classes: **Professor** e **Disciplina**"
      ],
      "metadata": {
        "id": "o-lp80DhwNvA"
      }
    },
    {
      "cell_type": "code",
      "source": [
        "class Disciplina:\n",
        "  def __init__(self, nome, horario):\n",
        "    self.__nome = nome\n",
        "    self.__horario = horario\n",
        "\n",
        "  @property\n",
        "  def nome(self):\n",
        "    return self.__nome\n",
        "\n",
        "  @nome.setter\n",
        "  def nome(self, nome):\n",
        "    self.__nome = nome\n",
        "\n",
        "  @property\n",
        "  def horario(self):\n",
        "    return self.__horario\n",
        "\n",
        "  @horario.setter\n",
        "  def horario(self, horario):\n",
        "    self.__horario = horario\n",
        "\n",
        "###################\n",
        "\n",
        "class Professor:\n",
        "  def __init__(self, nome, disciplina):\n",
        "    self.__nome = nome\n",
        "    self.__disciplina = disciplina\n",
        "\n",
        "  @property\n",
        "  def nome(self):\n",
        "    return self.__nome\n",
        "\n",
        "  @nome.setter\n",
        "  def nome(self, nome):\n",
        "    self.__nome = nome\n",
        "\n",
        "  @property\n",
        "  def disciplina(self):\n",
        "    return self.__disciplina\n",
        "\n",
        "  @disciplina.setter\n",
        "  def disciplina(self, disciplina):\n",
        "    self.__disciplina = disciplina\n",
        "\n",
        "################\n",
        "\n",
        "if __name__ == \"__main__\":\n",
        "    disc = Disciplina(\"Estrutura de Dados\",\"13:50\")\n",
        "    prof = Professor(\"Thiago Moura\",disc)\n",
        "\n",
        "    print(f\"O professor {prof.nome} ensina a disciplina {prof.disciplina.nome}\")\n",
        "\n",
        "    # Mudança de Horário da Disciplina\n",
        "    prof.disciplina.horario = \"14:00\"\n",
        "\n",
        "    print(f\"O horário da disciplina é: {disc.horario}\")"
      ],
      "metadata": {
        "id": "c2EhnTl_wIeZ"
      },
      "execution_count": null,
      "outputs": []
    }
  ]
}