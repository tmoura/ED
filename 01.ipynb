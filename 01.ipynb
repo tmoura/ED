{
  "nbformat": 4,
  "nbformat_minor": 0,
  "metadata": {
    "colab": {
      "name": "01.ipynb",
      "provenance": [],
      "authorship_tag": "ABX9TyNcIR/3vzoZK8VgwKFdSyC+",
      "include_colab_link": true
    },
    "kernelspec": {
      "name": "python3",
      "display_name": "Python 3"
    }
  },
  "cells": [
    {
      "cell_type": "markdown",
      "metadata": {
        "id": "view-in-github",
        "colab_type": "text"
      },
      "source": [
        "<a href=\"https://colab.research.google.com/github/tmoura/ED/blob/master/01.ipynb\" target=\"_parent\"><img src=\"https://colab.research.google.com/assets/colab-badge.svg\" alt=\"Open In Colab\"/></a>"
      ]
    },
    {
      "cell_type": "code",
      "metadata": {
        "id": "edFFzh5DgDen",
        "colab_type": "code",
        "colab": {}
      },
      "source": [
        "class Ponto:\n",
        "\n",
        "  def __init__(self,v1,v2):\n",
        "    self.x = v1\n",
        "    self.y = v2\n",
        "\n",
        "###############################  \n",
        "\n",
        "p = Ponto(3,2)\n",
        "\n",
        "print('O ponto tem coordenadas: ',p.x,' e ',p.y)"
      ],
      "execution_count": 0,
      "outputs": []
    },
    {
      "cell_type": "code",
      "metadata": {
        "id": "G0OVuDVcTpzE",
        "colab_type": "code",
        "colab": {}
      },
      "source": [
        "#######\n",
        "#\n",
        "# Reescreva a Classe Ponto e crie dois objetos ponto com as coordenadas (1,2) e (4,5) respectivamente\n",
        "#\n",
        "# Imprima as coordenadas dos pontos\n",
        "#######"
      ],
      "execution_count": 0,
      "outputs": []
    },
    {
      "cell_type": "code",
      "metadata": {
        "id": "4ScMoYMZT2mh",
        "colab_type": "code",
        "colab": {}
      },
      "source": [
        "#######\n",
        "#\n",
        "# Crie a classe \"Retangulo\" com os atributos \"base\" e \"altura\"\n",
        "#\n",
        "# cria um objeto retangulo com os valores 20 e 10\n",
        "#\n",
        "######"
      ],
      "execution_count": 0,
      "outputs": []
    },
    {
      "cell_type": "code",
      "metadata": {
        "id": "N7WmFMrJUTPB",
        "colab_type": "code",
        "colab": {}
      },
      "source": [
        "#######\n",
        "#\n",
        "# Crie a classe \"Aluno\" com os atributos \"nome\", \"matricula\" e \"idade\"\n",
        "#\n",
        "# cria um objeto aluno definindo valores para os seus atributos\n",
        "#\n",
        "######"
      ],
      "execution_count": 0,
      "outputs": []
    },
    {
      "cell_type": "code",
      "metadata": {
        "id": "x-pYLcstUfHv",
        "colab_type": "code",
        "colab": {}
      },
      "source": [
        "#######\n",
        "#\n",
        "# Crie a classe \"ContaCorrente\" com os atributos \"numero\", \"saldo\" e \"cpf\"\n",
        "#\n",
        "# cria um objeto conta corrente definindo valores para os seus atributos\n",
        "#\n",
        "######"
      ],
      "execution_count": 0,
      "outputs": []
    },
    {
      "cell_type": "code",
      "metadata": {
        "id": "2RQS0zlRvFFj",
        "colab_type": "code",
        "colab": {}
      },
      "source": [
        "######\n",
        "#\n",
        "# Classe Ponto com método \"quadrante\"\n",
        "#\n",
        "######\n",
        "class Ponto:\n",
        "  \n",
        "  def __init__(self,x,y):\n",
        "    self.x = x\n",
        "    self.y = y\n",
        "  \n",
        "  def quadrante(self):\n",
        "    if(self.x > 0) and (self.y > 0):\n",
        "      return \"1º quadrante\"\n",
        "    elif(self.x < 0) and (self.y > 0):\n",
        "      return \"2º quadrante\"\n",
        "    elif(self.x < 0) and (self.y < 0):\n",
        "      return \"3º quadrante\"\n",
        "    elif(self.x > 0) and (self.y < 0):\n",
        "      return \"4º quadrante\"\n",
        "    else:\n",
        "      return \"Nenhum dos quadrantes\"\n",
        "\n",
        "#########################\n",
        "\n",
        "p1 = Ponto(1,2)\n",
        "p2 = Ponto(-3,-1)\n",
        "\n",
        "q1 = p1.quadrante()\n",
        "q2 = p2.quadrante()\n",
        "\n",
        "print(f'Ponto 1 pertence ao {q1}')\n",
        "print(f'Ponto 2 pertence ao {q2}')"
      ],
      "execution_count": 0,
      "outputs": []
    },
    {
      "cell_type": "code",
      "metadata": {
        "id": "I34h682nxTd_",
        "colab_type": "code",
        "colab": {}
      },
      "source": [
        "#######\n",
        "#\n",
        "# 1) Defina os seguintes métodos para a classe Retângulo:\n",
        "#\n",
        "# calculaArea()\n",
        "# ehQuadrado()\n",
        "#\n",
        "# 2) Escreva um programa que crie dois retângulos e imprima na tela suas áreas e \n",
        "# se são ou não quadrados\n",
        "######"
      ],
      "execution_count": 0,
      "outputs": []
    },
    {
      "cell_type": "code",
      "metadata": {
        "id": "GY_ZjvOEJBux",
        "colab_type": "code",
        "colab": {}
      },
      "source": [
        "#######\n",
        "#\n",
        "# Modifique a classe ContaCorrente...\n",
        "#\n",
        "# 1. Privando os atributos dos seus objetos;\n",
        "# 2. Adicionando métodos modificadores (alteradores) e\n",
        "# acessadores para tais atributos;\n",
        "# 3. Fazendo alterações necessárias nos demais métodos.\n",
        "#######\n",
        "class ContaCorrente:\n",
        "\n",
        "  def __init__(self,nome,numero,saldo=0):\n",
        "    self.nome = nome\n",
        "    self.numero = numero\n",
        "    self.saldo = saldo"
      ],
      "execution_count": 0,
      "outputs": []
    },
    {
      "cell_type": "code",
      "metadata": {
        "id": "w5qlV3NPJwH7",
        "colab_type": "code",
        "colab": {}
      },
      "source": [
        "#######\n",
        "# Relacionamento entre objetos\n",
        "#######\n",
        "\n",
        "class Motor:\n",
        "\n",
        "  def __init__(self, motorizacao, combustivel = 'Flex'):\n",
        "    self._motorizacao = motorizacao\n",
        "    self._combustivel = combustivel\n",
        "  \n",
        "  def get_motorizacao(self):\n",
        "    return self._motorizacao\n",
        "  \n",
        "  def get_combustivel(self):\n",
        "    return self._combustivel\n",
        "\n",
        "  def set_motorizacao(self,motorizacao):\n",
        "    self._motorizacao = motorizacao\n",
        "  \n",
        "  def set_combustivel(self,combustivel):\n",
        "    self._combustivel = combustivel\n",
        "\n",
        "  def __str__(self):\n",
        "    return \"Motor:{}L, Combustivel:{}\".format(self._motorizacao, self._combustivel)\n",
        "\n",
        "#############################\n",
        "\n",
        "m = Motor(2.0)\n",
        "\n",
        "print(m)"
      ],
      "execution_count": 0,
      "outputs": []
    },
    {
      "cell_type": "code",
      "metadata": {
        "id": "gvSd0xF0K7ud",
        "colab_type": "code",
        "colab": {}
      },
      "source": [
        "class Carro:\n",
        "\n",
        "  def __init__(self,cor,placa,motor,dimensao):\n",
        "    self._cor = cor\n",
        "    self._placa = placa\n",
        "    self._motor = motor\n",
        "    self._dimensao = dimensao\n",
        "  \n",
        "  def get_cor(self):\n",
        "    return self._cor\n",
        "  \n",
        "  def get_placa(self):\n",
        "    return self._placa\n",
        "  \n",
        "  def get_motor(self):\n",
        "    return self._motor\n",
        "  \n",
        "  def get_dimensao(self):\n",
        "    return self._dimensao\n",
        "  \n",
        "  def set_cor(self,cor):\n",
        "    self._cor = cor\n",
        "  \n",
        "  def set_placa(self,placa):\n",
        "    self._placa = placa\n",
        "  \n",
        "  def set_motor(self,motor):\n",
        "    self._motor = motor\n",
        "  \n",
        "  def set_dimensao(self,dimensao):\n",
        "    self._dimensao = dimensao\n",
        "  \n",
        "  def __str__(self):\n",
        "    return \"Cor: {}, Placa: {},\\nMotorização: {}, \\nDimensão: {}\".format(self._cor,self._placa,self._motor,self._dimensao)\n",
        "\n",
        "#######################\n",
        "\n",
        "carro = Carro('preta','ABC-1234',m,\"20x40\")\n",
        "\n",
        "print(carro)\n",
        "\n",
        "######## CLASSE DIMENSÃO!"
      ],
      "execution_count": 0,
      "outputs": []
    },
    {
      "cell_type": "code",
      "metadata": {
        "id": "3hycZ0RXc-6O",
        "colab_type": "code",
        "colab": {}
      },
      "source": [
        "#################\n",
        "# Escreva uma classe que represente um país. Um país tem como atributos privados o seu nome,\n",
        "# o nome da capital, sua dimensão em Km2 e uma lista de países com os quais ele faz fronteira.\n",
        "# Represente a classe e forneça os seguintes construtores e métodos:\n",
        "#\n",
        "# a) Construtor que inicialize o nome, capital e a dimensão do país;\n",
        "#\n",
        "# b) Métodos de acesso para os atributos indicados no item (a);\n",
        "#\n",
        "# c) Método que retorne a lista de países que fazem fronteira;\n",
        "#\n",
        "# d) Método que adiciona o OBJETO país a lista de fronteiras (verificar se o PAÍS já existe na\n",
        "# lista).\n",
        "#\n",
        "# e) Método que retorne o nome do maior país que faz fronteira.\n",
        "#\n",
        "# f) Método __str__(self).\n",
        "#\n",
        "# Escreva um programa para criar objetos dessa classe e testar os métodos.\n",
        "#################\n",
        "\n",
        "class Pais:\n",
        "\n",
        "  def __init__(self,nome, capital, dimensao, fronteira=[]):\n",
        "    self.nome = nome\n",
        "    self.capital = capital\n",
        "    self.dimensao = dimensao\n",
        "    self.fronteira = fronteira\n",
        "  \n",
        "  def get_fronteira(self):\n",
        "    return self.fronteira\n",
        "\n",
        "\n",
        "##################\n",
        "brasil = Pais(\"Brasil\",\"Brasilia\",1500)"
      ],
      "execution_count": 0,
      "outputs": []
    },
    {
      "cell_type": "code",
      "metadata": {
        "id": "M6ooPBMLa0Gg",
        "colab_type": "code",
        "colab": {}
      },
      "source": [
        "#######\n",
        "#\n",
        "# Implemente uma classe ContaCorrente, cujos atributos dos seus objetos são numero, saldo e\n",
        "# nome_titular. Ainda na classe, implemente os métodos depositar e sacar, parametrizando neles,\n",
        "# o valor a ser depositado ou sacado, respectivamente. O método depositar não possui retorno,\n",
        "# devendo apenas incrementar o valor do saldo. O método sacar deverá retornar um valor\n",
        "# booleano (True – se sacou com sucesso, pois há saldo suficiente, decrementando-o; ou False\n",
        "# caso o saldo seja menor do que o valor a ser sacado). \n",
        "# A classe também deverá possuir um construtor para inicializar os valores dos\n",
        "# atributos dos objetos instanciados. Em seguida:\n",
        "#\n",
        "# a) Escreva um programa para criar 10 instâncias (objetos) de ContaCorrente,\n",
        "# armazenando-os em uma list. Os valores para inicialização dos objetos deverão ser lidos\n",
        "# do teclado;\n",
        "#\n",
        "# b) Criados os objetos, disponibilize um menu de operações para o usuário. Em um loop, o\n",
        "# programa ficará solicitando ao usuário, qual o número da operação abaixo ele deseja\n",
        "# realizar:\n",
        "#\n",
        "#     1) Depositar\n",
        "#     Ao digitar a opção 1, o programa deverá ler o número da conta e o valor a ser\n",
        "#     depositado, e realizar a operação.\n",
        "#\n",
        "#     2) Sacar\n",
        "#     Ao digitar a opção 2, o programa deverá ler o número da conta e o valor a ser\n",
        "#     sacado, e realizar a operação, testando se o saque ocorreu ou não.\n",
        "#\n",
        "#     3) Saldo\n",
        "#     Ao digitar a opção 3, o programa deverá ler o número da conta e exibir o seu\n",
        "#     saldo.\n",
        "#\n",
        "#     4) Transferir\n",
        "#     Ao digitar a opção 4, o programa deverá pedir o número da conta de origem, o\n",
        "#     número da conta de destino e oo valor a ser transferido. A transferência nada\n",
        "#     mais é do que um saque na conta de origem e um deposito na conta de destino.\n",
        "#\n",
        "#     5) Sair\n",
        "#     Ao digitar a opção 5 o programa deverá ser encerrado. O loop só será encerrado\n",
        "#     quando esta operação for informada.\n",
        "#\n",
        "#######"
      ],
      "execution_count": 0,
      "outputs": []
    }
  ]
}