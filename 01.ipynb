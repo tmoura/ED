{
  "nbformat": 4,
  "nbformat_minor": 0,
  "metadata": {
    "colab": {
      "name": "01.ipynb",
      "provenance": [],
      "authorship_tag": "ABX9TyPUrLGuiOHhgdWxOEQK0oMY",
      "include_colab_link": true
    },
    "kernelspec": {
      "name": "python3",
      "display_name": "Python 3"
    }
  },
  "cells": [
    {
      "cell_type": "markdown",
      "metadata": {
        "id": "view-in-github",
        "colab_type": "text"
      },
      "source": [
        "<a href=\"https://colab.research.google.com/github/tmoura/ED/blob/master/01.ipynb\" target=\"_parent\"><img src=\"https://colab.research.google.com/assets/colab-badge.svg\" alt=\"Open In Colab\"/></a>"
      ]
    },
    {
      "cell_type": "code",
      "metadata": {
        "id": "edFFzh5DgDen",
        "colab_type": "code",
        "colab": {}
      },
      "source": [
        "class Ponto:\n",
        "\n",
        "  def __init__(self,v1,v2):\n",
        "    self.x = v1\n",
        "    self.y = v2\n",
        "\n",
        "###############################  \n",
        "\n",
        "p = Ponto(3,2)\n",
        "\n",
        "print('O ponto tem coordenadas: ',p.x,' e ',p.y)"
      ],
      "execution_count": 0,
      "outputs": []
    },
    {
      "cell_type": "code",
      "metadata": {
        "id": "G0OVuDVcTpzE",
        "colab_type": "code",
        "colab": {}
      },
      "source": [
        "#######\n",
        "#\n",
        "# Reescreva a Classe Ponto e crie dois objetos ponto com as coordenadas (1,2) e (4,5) respectivamente\n",
        "#\n",
        "# Imprima as coordenadas dos pontos\n",
        "#######"
      ],
      "execution_count": 0,
      "outputs": []
    },
    {
      "cell_type": "code",
      "metadata": {
        "id": "4ScMoYMZT2mh",
        "colab_type": "code",
        "colab": {}
      },
      "source": [
        "#######\n",
        "#\n",
        "# Crie a classe \"Retangulo\" com os atributos \"base\" e \"altura\"\n",
        "#\n",
        "# cria um objeto retangulo com os valores 20 e 10\n",
        "#\n",
        "######"
      ],
      "execution_count": 0,
      "outputs": []
    },
    {
      "cell_type": "code",
      "metadata": {
        "id": "N7WmFMrJUTPB",
        "colab_type": "code",
        "colab": {}
      },
      "source": [
        "#######\n",
        "#\n",
        "# Crie a classe \"Aluno\" com os atributos \"nome\", \"matricula\" e \"idade\"\n",
        "#\n",
        "# cria um objeto aluno definindo valores para os seus atributos\n",
        "#\n",
        "######"
      ],
      "execution_count": 0,
      "outputs": []
    },
    {
      "cell_type": "code",
      "metadata": {
        "id": "x-pYLcstUfHv",
        "colab_type": "code",
        "colab": {}
      },
      "source": [
        "#######\n",
        "#\n",
        "# Crie a classe \"ContaCorrente\" com os atributos \"numero\", \"saldo\" e \"cpf\"\n",
        "#\n",
        "# cria um objeto conta corrente definindo valores para os seus atributos\n",
        "#\n",
        "######"
      ],
      "execution_count": 0,
      "outputs": []
    },
    {
      "cell_type": "code",
      "metadata": {
        "id": "2RQS0zlRvFFj",
        "colab_type": "code",
        "colab": {}
      },
      "source": [
        "######\n",
        "#\n",
        "# Classe Ponto com método \"quadrante\"\n",
        "#\n",
        "######\n",
        "class Ponto:\n",
        "  \n",
        "  def __init__(self,x,y):\n",
        "    self.x = x\n",
        "    self.y = y\n",
        "  \n",
        "  def quadrante(self):\n",
        "    if(self.x > 0) and (self.y > 0):\n",
        "      return \"1º quadrante\"\n",
        "    elif(self.x < 0) and (self.y > 0):\n",
        "      return \"2º quadrante\"\n",
        "    elif(self.x < 0) and (self.y < 0):\n",
        "      return \"3º quadrante\"\n",
        "    elif(self.x > 0) and (self.y < 0):\n",
        "      return \"4º quadrante\"\n",
        "    else:\n",
        "      return \"Nenhum dos quadrantes\"\n",
        "\n",
        "#########################\n",
        "\n",
        "p1 = Ponto(1,2)\n",
        "p2 = Ponto(-3,-1)\n",
        "\n",
        "q1 = p1.quadrante()\n",
        "q2 = p2.quadrante()\n",
        "\n",
        "print(f'Ponto 1 pertence ao {q1}')\n",
        "print(f'Ponto 2 pertence ao {q2}')"
      ],
      "execution_count": 0,
      "outputs": []
    },
    {
      "cell_type": "code",
      "metadata": {
        "id": "I34h682nxTd_",
        "colab_type": "code",
        "colab": {}
      },
      "source": [
        "#######\n",
        "#\n",
        "# 1) Defina os seguintes métodos para a classe Retângulo:\n",
        "#\n",
        "# calculaArea()\n",
        "# ehQuadrado()\n",
        "#\n",
        "# 2) Escreva um programa que crie dois retângulos e imprima na tela suas áreas e \n",
        "# se são ou não quadrados\n",
        "######"
      ],
      "execution_count": 0,
      "outputs": []
    },
    {
      "cell_type": "code",
      "metadata": {
        "id": "GY_ZjvOEJBux",
        "colab_type": "code",
        "colab": {}
      },
      "source": [
        "#######\n",
        "#\n",
        "# Modifique a classe ContaCorrente...\n",
        "# 1. Privando os atributos dos seus objetos;\n",
        "# 2. Adicionando métodos modificadores (alteradores) e\n",
        "# acessadores para tais atributos;\n",
        "# 3. Fazendo alterações necessárias nos demais métodos.\n",
        "#######\n",
        "class ContaCorrente:\n",
        "\n",
        "  def __init__(self,nome,numero,saldo=0):\n",
        "    self.nome = nome\n",
        "    self.numero = numero\n",
        "    self.saldo = saldo\n"
      ],
      "execution_count": 0,
      "outputs": []
    }
  ]
}