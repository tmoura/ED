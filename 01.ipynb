{
  "nbformat": 4,
  "nbformat_minor": 0,
  "metadata": {
    "colab": {
      "name": "01.ipynb",
      "provenance": [],
      "authorship_tag": "ABX9TyOg6VFYP5qKpIfvQQ6JF+c/",
      "include_colab_link": true
    },
    "kernelspec": {
      "name": "python3",
      "display_name": "Python 3"
    }
  },
  "cells": [
    {
      "cell_type": "markdown",
      "metadata": {
        "id": "view-in-github",
        "colab_type": "text"
      },
      "source": [
        "<a href=\"https://colab.research.google.com/github/tmoura/ED/blob/master/01.ipynb\" target=\"_parent\"><img src=\"https://colab.research.google.com/assets/colab-badge.svg\" alt=\"Open In Colab\"/></a>"
      ]
    },
    {
      "cell_type": "code",
      "metadata": {
        "id": "edFFzh5DgDen",
        "colab_type": "code",
        "colab": {}
      },
      "source": [
        "class Ponto:\n",
        "\n",
        "  def __init__(self,v1,v2):\n",
        "    self.x = v1\n",
        "    self.y = v2\n",
        "\n",
        "###############################  \n",
        "\n",
        "p = Ponto(3,2)\n",
        "\n",
        "print('O ponto tem coordenadas: ',p.x,' e ',p.y)"
      ],
      "execution_count": 0,
      "outputs": []
    },
    {
      "cell_type": "code",
      "metadata": {
        "id": "G0OVuDVcTpzE",
        "colab_type": "code",
        "colab": {}
      },
      "source": [
        "#######\n",
        "#\n",
        "# Reescreva a Classe Ponto e crie dois objetos ponto com as coordenadas (1,2) e (4,5) respectivamente\n",
        "#\n",
        "# Imprima as coordenadas dos pontos\n",
        "#######"
      ],
      "execution_count": 0,
      "outputs": []
    },
    {
      "cell_type": "code",
      "metadata": {
        "id": "4ScMoYMZT2mh",
        "colab_type": "code",
        "colab": {}
      },
      "source": [
        "#######\n",
        "#\n",
        "# Crie a classe \"Retangulo\" com os atributos \"base\" e \"altura\"\n",
        "#\n",
        "# cria um objeto retangulo com os valores 20 e 10\n",
        "#\n",
        "######"
      ],
      "execution_count": 0,
      "outputs": []
    },
    {
      "cell_type": "code",
      "metadata": {
        "id": "N7WmFMrJUTPB",
        "colab_type": "code",
        "colab": {}
      },
      "source": [
        "#######\n",
        "#\n",
        "# Crie a classe \"Aluno\" com os atributos \"nome\", \"matricula\" e \"idade\"\n",
        "#\n",
        "# cria um objeto aluno definindo valores para os seus atributos\n",
        "#\n",
        "######"
      ],
      "execution_count": 0,
      "outputs": []
    },
    {
      "cell_type": "code",
      "metadata": {
        "id": "x-pYLcstUfHv",
        "colab_type": "code",
        "colab": {}
      },
      "source": [
        "#######\n",
        "#\n",
        "# Crie a classe \"ContaCorrente\" com os atributos \"numero\", \"saldo\" e \"cpf\"\n",
        "#\n",
        "# cria um objeto conta corrente definindo valores para os seus atributos\n",
        "#\n",
        "######"
      ],
      "execution_count": 0,
      "outputs": []
    }
  ]
}