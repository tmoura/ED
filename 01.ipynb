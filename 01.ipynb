{
  "nbformat": 4,
  "nbformat_minor": 0,
  "metadata": {
    "colab": {
      "name": "01.ipynb",
      "provenance": [],
      "authorship_tag": "ABX9TyN3SwY9EtHMQACd65qKkiMc",
      "include_colab_link": true
    },
    "kernelspec": {
      "name": "python3",
      "display_name": "Python 3"
    }
  },
  "cells": [
    {
      "cell_type": "markdown",
      "metadata": {
        "id": "view-in-github",
        "colab_type": "text"
      },
      "source": [
        "<a href=\"https://colab.research.google.com/github/tmoura/ED/blob/master/01.ipynb\" target=\"_parent\"><img src=\"https://colab.research.google.com/assets/colab-badge.svg\" alt=\"Open In Colab\"/></a>"
      ]
    },
    {
      "cell_type": "code",
      "metadata": {
        "id": "edFFzh5DgDen",
        "colab_type": "code",
        "colab": {}
      },
      "source": [
        "class Ponto:\n",
        "\n",
        "  def __init__(self,v1,v2):\n",
        "    self.x = v1\n",
        "    self.y = v2\n",
        "  \n",
        "\n",
        "\n",
        "\n",
        "\n",
        "p = Ponto(3,2)\n",
        "\n",
        "print('O ponto tem coordenadas: ',p.x,' e ',p.y)"
      ],
      "execution_count": 0,
      "outputs": []
    }
  ]
}