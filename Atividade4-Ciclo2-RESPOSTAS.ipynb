{
  "nbformat": 4,
  "nbformat_minor": 0,
  "metadata": {
    "colab": {
      "provenance": [],
      "authorship_tag": "ABX9TyNMkJwNz34vsxtIvugnaPRa",
      "include_colab_link": true
    },
    "kernelspec": {
      "name": "python3",
      "display_name": "Python 3"
    },
    "language_info": {
      "name": "python"
    }
  },
  "cells": [
    {
      "cell_type": "markdown",
      "metadata": {
        "id": "view-in-github",
        "colab_type": "text"
      },
      "source": [
        "<a href=\"https://colab.research.google.com/github/tmoura/ED/blob/master/Atividade4-Ciclo2-RESPOSTAS.ipynb\" target=\"_parent\"><img src=\"https://colab.research.google.com/assets/colab-badge.svg\" alt=\"Open In Colab\"/></a>"
      ]
    },
    {
      "cell_type": "code",
      "execution_count": null,
      "metadata": {
        "id": "gyZJR6oA5Of4"
      },
      "outputs": [],
      "source": [
        "!pip install deslib"
      ]
    },
    {
      "cell_type": "code",
      "source": [
        "import numpy as np\n",
        "from sklearn.model_selection import train_test_split\n",
        "from deslib.dcs import OLA\n",
        "from deslib.dcs import LCA\n",
        "from deslib.dcs import MCB\n",
        "from deslib.des import KNORAE\n",
        "from deslib.des import KNORAU\n",
        "from sklearn.ensemble import RandomForestClassifier\n",
        "from sklearn.datasets import load_breast_cancer\n",
        "import pandas as pd\n",
        "\n",
        "data = load_breast_cancer()\n",
        "\n",
        "df = pd.DataFrame(data.data, columns=data.feature_names)\n",
        "\n",
        "df['target'] = data.target\n",
        "\n",
        "y = df['target']\n",
        "X = df.drop(['target'], axis=1)\n",
        "\n",
        "X_train, X_test, y_train, y_test = train_test_split(X, y, test_size=0.20, random_state=None)\n",
        "\n",
        "rf = RandomForestClassifier(n_estimators=20)\n",
        "rf.fit(X_train, y_train)\n",
        "\n",
        "X_train, X_dsel, y_train, y_dsel = train_test_split(X_train, y_train, test_size=0.5,random_state=None)\n",
        "\n",
        "kne = KNORAE(rf, k=5)\n",
        "mcb = MCB(rf, k=5)\n",
        "lca = LCA(rf, k=5)\n",
        "ola = OLA(rf, k=5)\n",
        "knu = KNORAU(rf, k=5)\n",
        "\n",
        "# Fitting the des techniques\n",
        "kne.fit(X_dsel, y_dsel)\n",
        "mcb.fit(X_dsel, y_dsel)\n",
        "lca.fit(X_dsel, y_dsel)\n",
        "ola.fit(X_dsel, y_dsel)\n",
        "knu.fit(X_dsel, y_dsel)\n",
        "\n",
        "# Calculate classification accuracy of each technique\n",
        "print('Resultados:')\n",
        "print('KNORA-Eliminate: ',kne.score(X_test, y_test))\n",
        "print('KNORA-Union: ',knu.score(X_test, y_test))\n",
        "print('MCB: ',mcb.score(X_test, y_test))\n",
        "print('OLA: ',ola.score(X_test, y_test))\n",
        "print('LCA: ',lca.score(X_test, y_test))\n",
        "print('Random Forest: ',rf.score(X_test, y_test))"
      ],
      "metadata": {
        "id": "X0zmS0B45atJ"
      },
      "execution_count": null,
      "outputs": []
    }
  ]
}