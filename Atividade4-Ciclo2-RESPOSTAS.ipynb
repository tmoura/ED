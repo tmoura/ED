{
  "nbformat": 4,
  "nbformat_minor": 0,
  "metadata": {
    "colab": {
      "provenance": [],
      "authorship_tag": "ABX9TyOsCy7AMfpu4X0gqsPUq4Ho",
      "include_colab_link": true
    },
    "kernelspec": {
      "name": "python3",
      "display_name": "Python 3"
    },
    "language_info": {
      "name": "python"
    }
  },
  "cells": [
    {
      "cell_type": "markdown",
      "metadata": {
        "id": "view-in-github",
        "colab_type": "text"
      },
      "source": [
        "<a href=\"https://colab.research.google.com/github/tmoura/ED/blob/master/Atividade4-Ciclo2-RESPOSTAS.ipynb\" target=\"_parent\"><img src=\"https://colab.research.google.com/assets/colab-badge.svg\" alt=\"Open In Colab\"/></a>"
      ]
    },
    {
      "cell_type": "code",
      "execution_count": null,
      "metadata": {
        "id": "gyZJR6oA5Of4"
      },
      "outputs": [],
      "source": [
        "!pip install deslib"
      ]
    },
    {
      "cell_type": "code",
      "source": [
        "from sklearn.tree import DecisionTreeClassifier\n",
        "from sklearn.model_selection import train_test_split\n",
        "from sklearn import metrics\n",
        "from sklearn.metrics import confusion_matrix\n",
        "import pandas as pd\n",
        "\n",
        "from sklearn.ensemble import RandomForestClassifier\n",
        "\n",
        "url = \"https://raw.githubusercontent.com/tmoura/machinelearning/master/datasets/ionosphere.data\"\n",
        "\n",
        "# Carregar base de dados\n",
        "# DataFrame\n",
        "dataset = pd.read_csv(url, header=None)\n",
        "\n",
        "columns = len(dataset.columns)\n",
        "\n",
        "y = dataset[0] # extrai a primeira coluna, que é o label\n",
        "X = dataset.loc[:,1:columns-1]"
      ],
      "metadata": {
        "id": "HMndtF92hIK6"
      },
      "execution_count": 11,
      "outputs": []
    },
    {
      "cell_type": "code",
      "source": [
        "X_train, X_test, y_train, y_test = train_test_split(X, y, test_size=0.20, random_state=None)\n",
        "\n",
        "rf = DecisionTreeClassifier()\n",
        "rf.fit(X_train, y_train)\n",
        "\n",
        "print('Árvores: ',rf.score(X_test, y_test))\n",
        "\n",
        "rf = RandomForestClassifier()\n",
        "rf.fit(X_train, y_train)\n",
        "\n",
        "print('Random Forest: ',rf.score(X_test, y_test))"
      ],
      "metadata": {
        "id": "p_cWYRvOiJop"
      },
      "execution_count": null,
      "outputs": []
    },
    {
      "cell_type": "code",
      "source": [
        "from sklearn.ensemble import BaggingClassifier\n",
        "\n",
        "bag = BaggingClassifier(n_estimators=50)\n",
        "bag.fit(X_train, y_train)\n",
        "\n",
        "print('Bagging: ',bag.score(X_test, y_test))"
      ],
      "metadata": {
        "id": "w2iBQZtyyX2A"
      },
      "execution_count": null,
      "outputs": []
    },
    {
      "cell_type": "code",
      "source": [
        "from deslib.dcs import OLA\n",
        "from deslib.dcs import LCA\n",
        "from deslib.dcs import MCB\n",
        "from deslib.des import KNORAE\n",
        "from deslib.des import KNORAU\n",
        "\n",
        "X_train, X_dsel, y_train, y_dsel = train_test_split(X_train, y_train, test_size=0.5,random_state=None)\n",
        "\n",
        "kne = KNORAE(bag, k=5)\n",
        "mcb = MCB(bag, k=5)\n",
        "lca = LCA(bag, k=5)\n",
        "ola = OLA(bag, k=5)\n",
        "knu = KNORAU(bag, k=5)\n",
        "\n",
        "# Fitting the des techniques\n",
        "kne.fit(X_dsel, y_dsel)\n",
        "mcb.fit(X_dsel, y_dsel)\n",
        "lca.fit(X_dsel, y_dsel)\n",
        "ola.fit(X_dsel, y_dsel)\n",
        "knu.fit(X_dsel, y_dsel)\n",
        "\n",
        "# Calculate classification accuracy of each technique\n",
        "print('Resultados:')\n",
        "print('KNORA-Eliminate: ',kne.score(X_test, y_test))\n",
        "print('KNORA-Union: ',knu.score(X_test, y_test))\n",
        "print('MCB: ',mcb.score(X_test, y_test))\n",
        "print('OLA: ',ola.score(X_test, y_test))\n",
        "print('LCA: ',lca.score(X_test, y_test))"
      ],
      "metadata": {
        "id": "hJiBkaitzF0q"
      },
      "execution_count": null,
      "outputs": []
    }
  ]
}