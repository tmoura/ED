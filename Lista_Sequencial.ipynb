{
  "nbformat": 4,
  "nbformat_minor": 0,
  "metadata": {
    "colab": {
      "name": "Lista Sequencial.ipynb",
      "provenance": [],
      "authorship_tag": "ABX9TyOZqdgENH1VTt0j08X7kOf8",
      "include_colab_link": true
    },
    "kernelspec": {
      "name": "python3",
      "display_name": "Python 3"
    }
  },
  "cells": [
    {
      "cell_type": "markdown",
      "metadata": {
        "id": "view-in-github",
        "colab_type": "text"
      },
      "source": [
        "<a href=\"https://colab.research.google.com/github/tmoura/ED/blob/master/Lista_Sequencial.ipynb\" target=\"_parent\"><img src=\"https://colab.research.google.com/assets/colab-badge.svg\" alt=\"Open In Colab\"/></a>"
      ]
    },
    {
      "cell_type": "markdown",
      "metadata": {
        "id": "jMsizpoO34xR",
        "colab_type": "text"
      },
      "source": [
        "## **Exceção ListException (Herda da classe Exception)**\n"
      ]
    },
    {
      "cell_type": "code",
      "metadata": {
        "id": "g_OIYQD733vw",
        "colab_type": "code",
        "colab": {}
      },
      "source": [
        "class ListaException(Exception):\n",
        "  def __init__(self, mensagem):\n",
        "    super().__init__(mensagem)"
      ],
      "execution_count": null,
      "outputs": []
    },
    {
      "cell_type": "markdown",
      "metadata": {
        "id": "dNBzJRW85DUS",
        "colab_type": "text"
      },
      "source": [
        "## **Classe ListaSequencial**"
      ]
    },
    {
      "cell_type": "code",
      "metadata": {
        "id": "bbdTPdKl4PQJ",
        "colab_type": "code",
        "colab": {}
      },
      "source": [
        "class ListaSequencial:\n",
        "  def __init__(self):\n",
        "    self.__dados = []\n",
        "\n",
        "  def vazia(self):\n",
        "    return len(self.__dados) == 0\n",
        "\n",
        "  def tamanho(self):\n",
        "    return len(self.__dados)\n",
        "\n",
        "  def busca(self, dado):\n",
        "    try:\n",
        "      return self.__dados.index(dado) + 1\n",
        "    \n",
        "    except ValueError:\n",
        "      raise ListaException(f'{dado} não foi encontrado')\n",
        "    except:\n",
        "      raise\n",
        "\n",
        "  def elemento(self,posicao):\n",
        "    \n",
        "    try:\n",
        "      assert posicao > 0\n",
        "      return self.__dados[posicao-1]\n",
        "    \n",
        "    except AssertionError:\n",
        "      raise ListaException('Posição negativa é inválido')\n",
        "    except IndexError:\n",
        "      raise ListaException('Posição informada é inválida')\n",
        "    except TypeError:\n",
        "      raise ListaException('A posição passada deve ser do tipo inteiro')\n",
        "    except:\n",
        "      raise\n",
        "\n",
        "  def inserir(self, posicao, dado):\n",
        "\n",
        "    try:\n",
        "      assert posicao > 0\n",
        "      self.__dados.insert(posicao-1,dado)\n",
        "\n",
        "    except AssertionError:\n",
        "      raise ListaException('Posição negativa é inválido')\n",
        "    except IndexError:\n",
        "      raise ListaException('Posição informada é inválida')\n",
        "    except TypeError:\n",
        "      raise ListaException('A posição passada deve ser do tipo inteiro')\n",
        "    except:\n",
        "      raise\n",
        "\n",
        "  def remover(self, posicao):\n",
        "\n",
        "    try:\n",
        "      assert posicao > 0\n",
        "      \n",
        "      if(self.vazia()):\n",
        "        raise ListaException('A lista está vazia')\n",
        "\n",
        "      return self.__dados.pop(posicao - 1)\n",
        "\n",
        "    except AssertionError:\n",
        "      raise ListaException('Posição negativa é inválido')\n",
        "    except IndexError:\n",
        "      raise ListaException('Posição informada é inválida')\n",
        "    except TypeError:\n",
        "      raise ListaException('A posição passada deve ser do tipo inteiro')\n",
        "    except:\n",
        "      raise\n",
        "\n",
        "  def __str__(self):\n",
        "    return self.__dados.__str__()\n",
        "  \n",
        "  def imprimir(self):\n",
        "    print(self.__str__())\n",
        "\n",
        "  def modificar(self, posicao, novoValor):\n",
        "    try:\n",
        "      assert posicao > 0\n",
        "      \n",
        "      if (self.vazia()):\n",
        "        raise ListaException('A lista está vazia')\n",
        "      \n",
        "      self.__dados[posicao-1] = novoValor\n",
        "      return True\n",
        "\n",
        "    except AssertionError:\n",
        "      raise ListaException('Posição negativa é inválido')\n",
        "    except IndexError:\n",
        "      raise ListaException('Posição informada é inválida')\n",
        "    except TypeError:\n",
        "      raise ListaException('A posição passada deve ser do tipo inteiro')\n",
        "    except:\n",
        "      raise"
      ],
      "execution_count": null,
      "outputs": []
    },
    {
      "cell_type": "markdown",
      "metadata": {
        "id": "rdc-Di5RHwJd",
        "colab_type": "text"
      },
      "source": [
        "## **Programa Principal Teste**"
      ]
    },
    {
      "cell_type": "code",
      "metadata": {
        "id": "TW_sWoeUH1hJ",
        "colab_type": "code",
        "colab": {
          "base_uri": "https://localhost:8080/",
          "height": 71
        },
        "outputId": "23aaa186-ce54-4071-9eea-2ee6cef863ea"
      },
      "source": [
        "m = ListaSequencial()\n",
        "\n",
        "print(m.vazia())\n",
        "\n",
        "# Insere na Lista os valores de 10, 20, ...100, na primeira posição\n",
        "for i in range(1,11):\n",
        "  m.inserir(1, i * 10)\n",
        "\n",
        "print(m)\n",
        "\n",
        "#m.inserir(-2,110)\n",
        "\n",
        "# try:\n",
        "#   m.inserir(-2,110)\n",
        "# except ListaException as le:\n",
        "#   print(le)\n",
        "\n",
        "#m.remover(100)\n",
        "\n",
        "# try:\n",
        "#   m.remover(100)\n",
        "# except ListaException as le:\n",
        "#   print(le)\n"
      ],
      "execution_count": null,
      "outputs": [
        {
          "output_type": "stream",
          "text": [
            "True\n",
            "[100, 90, 80, 70, 60, 50, 40, 30, 20, 10]\n",
            "Posição informada é inválida\n"
          ],
          "name": "stdout"
        }
      ]
    }
  ]
}