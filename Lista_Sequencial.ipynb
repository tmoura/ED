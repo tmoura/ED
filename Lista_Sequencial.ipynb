{
  "nbformat": 4,
  "nbformat_minor": 0,
  "metadata": {
    "colab": {
      "name": "Lista Sequencial.ipynb",
      "provenance": [],
      "authorship_tag": "ABX9TyNKj0CtaORd+ZCq3u5WM7tI",
      "include_colab_link": true
    },
    "kernelspec": {
      "name": "python3",
      "display_name": "Python 3"
    }
  },
  "cells": [
    {
      "cell_type": "markdown",
      "metadata": {
        "id": "view-in-github",
        "colab_type": "text"
      },
      "source": [
        "<a href=\"https://colab.research.google.com/github/tmoura/ED/blob/master/Lista_Sequencial.ipynb\" target=\"_parent\"><img src=\"https://colab.research.google.com/assets/colab-badge.svg\" alt=\"Open In Colab\"/></a>"
      ]
    },
    {
      "cell_type": "markdown",
      "metadata": {
        "id": "jMsizpoO34xR",
        "colab_type": "text"
      },
      "source": [
        "## **Exceção ListException (Herda da classe Exception)**\n"
      ]
    },
    {
      "cell_type": "code",
      "metadata": {
        "id": "g_OIYQD733vw",
        "colab_type": "code",
        "colab": {}
      },
      "source": [
        "class ListException(Exception):\n",
        "  def __init__(self, mensagem):\n",
        "    super().__init__(mensagem)"
      ],
      "execution_count": 1,
      "outputs": []
    },
    {
      "cell_type": "markdown",
      "metadata": {
        "id": "dNBzJRW85DUS",
        "colab_type": "text"
      },
      "source": [
        "## **Classe ListaSequencial**"
      ]
    },
    {
      "cell_type": "code",
      "metadata": {
        "id": "bbdTPdKl4PQJ",
        "colab_type": "code",
        "colab": {}
      },
      "source": [
        "class ListaSequencial:\n",
        "  def __init__(self):\n",
        "    self.__dados = []\n",
        "\n",
        "  def vazia(self):\n",
        "    return len(self.__dados) == 0\n",
        "\n",
        "  def tamanho(self):\n",
        "    return len(self.__dados)\n",
        "\n",
        "  def busca(self, dado):\n",
        "    for i in range(self.__dados):\n",
        "      if self.__dados[i] == dado:\n",
        "        return i+1\n",
        "    \n",
        "    return None"
      ],
      "execution_count": null,
      "outputs": []
    }
  ]
}