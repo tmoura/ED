{
  "nbformat": 4,
  "nbformat_minor": 0,
  "metadata": {
    "colab": {
      "name": "Lista Sequencial.ipynb",
      "provenance": [],
      "authorship_tag": "ABX9TyP+BAwcK0wDvZ2CBaebLWNx",
      "include_colab_link": true
    },
    "kernelspec": {
      "name": "python3",
      "display_name": "Python 3"
    }
  },
  "cells": [
    {
      "cell_type": "markdown",
      "metadata": {
        "id": "view-in-github",
        "colab_type": "text"
      },
      "source": [
        "<a href=\"https://colab.research.google.com/github/tmoura/ED/blob/master/Lista_Sequencial.ipynb\" target=\"_parent\"><img src=\"https://colab.research.google.com/assets/colab-badge.svg\" alt=\"Open In Colab\"/></a>"
      ]
    },
    {
      "cell_type": "markdown",
      "metadata": {
        "id": "jMsizpoO34xR",
        "colab_type": "text"
      },
      "source": [
        "## **Exceção ListException (Herda da classe Exception)**\n"
      ]
    },
    {
      "cell_type": "code",
      "metadata": {
        "id": "g_OIYQD733vw",
        "colab_type": "code",
        "colab": {}
      },
      "source": [
        "class ListaException(Exception):\n",
        "  def __init__(self, mensagem):\n",
        "    super().__init__(mensagem)"
      ],
      "execution_count": 2,
      "outputs": []
    },
    {
      "cell_type": "markdown",
      "metadata": {
        "id": "dNBzJRW85DUS",
        "colab_type": "text"
      },
      "source": [
        "## **Classe ListaSequencial**"
      ]
    },
    {
      "cell_type": "code",
      "metadata": {
        "id": "bbdTPdKl4PQJ",
        "colab_type": "code",
        "colab": {}
      },
      "source": [
        "class ListaSequencial:\n",
        "  def __init__(self):\n",
        "    self.__dados = []\n",
        "\n",
        "  def vazia(self):\n",
        "    return len(self.__dados) == 0\n",
        "\n",
        "  def tamanho(self):\n",
        "    return len(self.__dados)\n",
        "\n",
        "  def busca(self, dado):\n",
        "    try:\n",
        "      return self.__dados.index(dado) + 1\n",
        "    \n",
        "    except ValueError:\n",
        "      raise ListaException(f'{dado} não foi encontrado')\n",
        "    except:\n",
        "      raise\n",
        "\n",
        "  def elemento(self,posicao):\n",
        "    \n",
        "    try:\n",
        "      assert posicao > 0\n",
        "      return self.__dados[posicao-1]\n",
        "    \n",
        "    except AssertionError:\n",
        "      raise ListaException('Posição negativa é inválido')\n",
        "    except IndexError:\n",
        "      raise ListaException('Posição informada é inválida')\n",
        "    except TypeError:\n",
        "      raise ListaException('A posição passada deve ser do tipo inteiro')\n",
        "    except:\n",
        "      raise\n",
        "\n",
        "  def inserir(self, posicao, dado):\n",
        "\n",
        "    try:\n",
        "      assert posicao > 0\n",
        "      self.__dados.insert(posicao-1,dado)\n",
        "\n",
        "    except AssertionError:\n",
        "      raise ListaException('Posição negativa é inválido')\n",
        "    except IndexError:\n",
        "      raise ListaException('Posição informada é inválida')\n",
        "    except TypeError:\n",
        "      raise ListaException('A posição passada deve ser do tipo inteiro')\n",
        "    except:\n",
        "      raise\n",
        "\n",
        "  def remover(self, posicao):\n",
        "\n",
        "    try:\n",
        "      assert posicao > 0\n",
        "      \n",
        "      if(self.vazia()):\n",
        "        raise ListaException('A lista está vazia')\n",
        "\n",
        "      return self.__dados.pop(posicao - 1)\n",
        "\n",
        "    except AssertionError:\n",
        "      raise ListaException('Posição negativa é inválido')\n",
        "    except IndexError:\n",
        "      raise ListaException('Posição informada é inválida')\n",
        "    except TypeError:\n",
        "      raise ListaException('A posição passada deve ser do tipo inteiro')\n",
        "    except:\n",
        "      raise\n",
        "\n",
        "  def __str__(self):\n",
        "    return self.__dados.__str__()\n",
        "  \n",
        "  def imprimir(self):\n",
        "    print(self.__str__())\n",
        "\n",
        "  def modificar(self, posicao, novoValor):\n",
        "    try:\n",
        "      assert posicao > 0\n",
        "      \n",
        "      if (self.vazia()):\n",
        "        raise ListaException('A lista está vazia')\n",
        "      \n",
        "      self.__dados[posicao-1] = novoValor\n",
        "      return True\n",
        "\n",
        "    except AssertionError:\n",
        "      raise ListaException('Posição negativa é inválido')\n",
        "    except IndexError:\n",
        "      raise ListaException('Posição informada é inválida')\n",
        "    except TypeError:\n",
        "      raise ListaException('A posição passada deve ser do tipo inteiro')\n",
        "    except:\n",
        "      raise"
      ],
      "execution_count": 3,
      "outputs": []
    }
  ]
}