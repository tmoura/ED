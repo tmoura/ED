{
  "nbformat": 4,
  "nbformat_minor": 0,
  "metadata": {
    "colab": {
      "name": "Fila Encadeada.ipynb",
      "provenance": [],
      "collapsed_sections": [],
      "authorship_tag": "ABX9TyMGfChTni1GPNUkxlcZHfjY",
      "include_colab_link": true
    },
    "kernelspec": {
      "name": "python3",
      "display_name": "Python 3"
    }
  },
  "cells": [
    {
      "cell_type": "markdown",
      "metadata": {
        "id": "view-in-github",
        "colab_type": "text"
      },
      "source": [
        "<a href=\"https://colab.research.google.com/github/tmoura/ED/blob/master/Fila_Encadeada.ipynb\" target=\"_parent\"><img src=\"https://colab.research.google.com/assets/colab-badge.svg\" alt=\"Open In Colab\"/></a>"
      ]
    },
    {
      "cell_type": "markdown",
      "metadata": {
        "id": "x8uSo-ri_fcS"
      },
      "source": [
        "## **Exceção FilaException (Herda da classe Exception)**"
      ]
    },
    {
      "cell_type": "code",
      "metadata": {
        "id": "ruTHXt7f_JtD"
      },
      "source": [
        "class FilaException(Exception):\n",
        "  def __init__(self,mensagem):\n",
        "    super().__init__(mensagem)"
      ],
      "execution_count": 1,
      "outputs": []
    },
    {
      "cell_type": "markdown",
      "metadata": {
        "id": "qMpGKyMo_moA"
      },
      "source": [
        "## **Classe Nó**"
      ]
    },
    {
      "cell_type": "code",
      "metadata": {
        "id": "LEEh1DVp_pLh"
      },
      "source": [
        "class Node:\n",
        "  def __init__(self, dado = None):\n",
        "    self.__dado = dado\n",
        "    self.__prox = None\n",
        "  \n",
        "  # get\n",
        "  @property\n",
        "  def dado(self):\n",
        "    return self.__dado\n",
        "  \n",
        "  # set\n",
        "  @dado.setter\n",
        "  def dado(self, novo):\n",
        "    self.__dado = novo\n",
        "\n",
        "  # get\n",
        "  @property\n",
        "  def prox(self):\n",
        "    return self.__prox\n",
        "  \n",
        "  # set\n",
        "  @prox.setter\n",
        "  def prox(self, novo):\n",
        "    self.__prox = novo"
      ],
      "execution_count": 2,
      "outputs": []
    },
    {
      "cell_type": "markdown",
      "metadata": {
        "id": "dmetLBc6_uNv"
      },
      "source": [
        "## **Classe Fila Encadeada**"
      ]
    },
    {
      "cell_type": "code",
      "metadata": {
        "id": "IjZX-VAC_0vI"
      },
      "source": [
        "class FilaEncadeada:\n",
        "  def __init__(self):\n",
        "    self.__inicio = None\n",
        "    self.__tamanho = 0\n",
        "\n",
        "  @property\n",
        "  def inicio(self):\n",
        "      if self.vazia():\n",
        "        raise FilaException('A fila está vazia')\n",
        "\n",
        "      return self.__inicio\n",
        "\n",
        "  def vazia(self):\n",
        "    return self.__tamanho == 0\n",
        "  \n",
        "  def tamanho(self):\n",
        "    return self.__tamanho\n",
        "  \n",
        "  def inserir(self, dado):\n",
        "      novo = Node(dado)\n",
        "      \n",
        "      aux = self.__inicio\n",
        "\n",
        "      if aux == None:\n",
        "          self.__inicio = novo\n",
        "\n",
        "      else:\n",
        "          while aux.prox != None:\n",
        "              aux = aux.prox\n",
        "      \n",
        "          aux.prox = novo\n",
        "\n",
        "      self.__tamanho += 1 \n",
        "\n",
        "  def remover(self):\n",
        "      if self.vazia():\n",
        "        raise FilaException('A fila está vazia')\n",
        "\n",
        "      self.__inicio = self.__inicio.prox\n",
        "      self.__tamanho -= 1  \n",
        "  \n",
        "  def __str__(self):\n",
        "    saida = 'Fila: ['\n",
        "    p = self.__inicio\n",
        "\n",
        "    while p != None:\n",
        "      saida += f'{p.dado}'\n",
        "      p = p.prox\n",
        "\n",
        "      if p != None:\n",
        "        saida += ', '\n",
        "    \n",
        "    saida += ']'\n",
        "    return saida\n",
        "\n",
        "  def imprimir(self):\n",
        "    print(self.__str__())\n",
        "\n",
        "  def modificar(self, novoValor):\n",
        "      if self.vazia():\n",
        "        raise FilaException('A fila está vazia')\n",
        "      \n",
        "      self.__topo.dado = novoValor"
      ],
      "execution_count": 5,
      "outputs": []
    },
    {
      "cell_type": "code",
      "metadata": {
        "id": "H2MhuiVFBMDN"
      },
      "source": [
        "if __name__ == '__main__':\n",
        "\n",
        "  f = FilaEncadeada()\n",
        "\n",
        "  f.inserir(10)\n",
        "  f.inserir(20)\n",
        "  f.inserir(30)\n",
        "  f.inserir(40)\n",
        "\n",
        "  print(f)\n",
        "\n",
        "  f.remover()\n",
        "  print(f)\n",
        "\n",
        "  f.remover()\n",
        "  print(f)\n",
        "\n"
      ],
      "execution_count": null,
      "outputs": []
    }
  ]
}