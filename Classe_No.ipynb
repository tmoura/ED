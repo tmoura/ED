{
  "nbformat": 4,
  "nbformat_minor": 0,
  "metadata": {
    "colab": {
      "provenance": [],
      "authorship_tag": "ABX9TyOQKDTi9+gg38CSoAyOkcCh",
      "include_colab_link": true
    },
    "kernelspec": {
      "name": "python3",
      "display_name": "Python 3"
    },
    "language_info": {
      "name": "python"
    }
  },
  "cells": [
    {
      "cell_type": "markdown",
      "metadata": {
        "id": "view-in-github",
        "colab_type": "text"
      },
      "source": [
        "<a href=\"https://colab.research.google.com/github/tmoura/ED/blob/master/Classe_No.ipynb\" target=\"_parent\"><img src=\"https://colab.research.google.com/assets/colab-badge.svg\" alt=\"Open In Colab\"/></a>"
      ]
    },
    {
      "cell_type": "code",
      "execution_count": 1,
      "metadata": {
        "id": "fo3KrDXf7GxE"
      },
      "outputs": [],
      "source": [
        "class No:\n",
        "  def __init__(self, dado, prox = None):\n",
        "    self.__dado = dado\n",
        "    self.__prox = prox\n",
        "\n",
        "  @property\n",
        "  def dado(self):\n",
        "    return self.__dado\n",
        "\n",
        "  @dado.setter\n",
        "  def dado(self, dado):\n",
        "    self.__dado = dado\n",
        "\n",
        "  @property\n",
        "  def prox(self):\n",
        "    return self.__prox\n",
        "\n",
        "  @prox.setter\n",
        "  def prox(self, prox):\n",
        "    self.__prox = prox\n",
        "\n",
        "  def __str__ (self) :\n",
        "    return \"{}\".format(self.__dado)"
      ]
    },
    {
      "cell_type": "code",
      "source": [
        "no1 = No(\"A\")\n",
        "no2 = No(\"B\")\n",
        "no1.prox = no2\n",
        "\n",
        "no3 = No(\"C\")\n",
        "no2.prox = no3\n",
        "\n",
        "print(no1.prox.prox)\n",
        "print(no1.prox.prox.dado)"
      ],
      "metadata": {
        "id": "H5ic9ORLAVT8"
      },
      "execution_count": null,
      "outputs": []
    },
    {
      "cell_type": "code",
      "source": [
        "no1 = No(\"D\")\n",
        "no1.prox = No(\"E\")\n",
        "no1.prox.prox = No(\"F\")\n",
        "no1.prox.prox.prox = No(\"G\")\n",
        "no1.prox.prox.prox.prox = No(\"H\")\n",
        "\n",
        "# Imprimir toda a lista usando WHILE\n",
        "# ????\n",
        "q = no1\n",
        "while(q != None):\n",
        "  print(q.dado)\n",
        "  q = q.prox\n",
        "\n",
        "print(\"#######\")\n",
        "\n",
        "noEF = No(\"EF\")\n",
        "noEF.prox = no1.prox.prox\n",
        "no1.prox.prox = noEF\n",
        "\n",
        "q = no1\n",
        "while(q != None):\n",
        "  print(q.dado)\n",
        "  q = q.prox\n"
      ],
      "metadata": {
        "id": "LQPv4QpoAvhC"
      },
      "execution_count": null,
      "outputs": []
    }
  ]
}