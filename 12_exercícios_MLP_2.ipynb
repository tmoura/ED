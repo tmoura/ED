{
  "nbformat": 4,
  "nbformat_minor": 0,
  "metadata": {
    "colab": {
      "provenance": [],
      "authorship_tag": "ABX9TyP5wwNlF0qoi+efMBTQkn4l",
      "include_colab_link": true
    },
    "kernelspec": {
      "name": "python3",
      "display_name": "Python 3"
    },
    "language_info": {
      "name": "python"
    }
  },
  "cells": [
    {
      "cell_type": "markdown",
      "metadata": {
        "id": "view-in-github",
        "colab_type": "text"
      },
      "source": [
        "<a href=\"https://colab.research.google.com/github/tmoura/ED/blob/master/12_exerc%C3%ADcios_MLP_2.ipynb\" target=\"_parent\"><img src=\"https://colab.research.google.com/assets/colab-badge.svg\" alt=\"Open In Colab\"/></a>"
      ]
    },
    {
      "cell_type": "code",
      "execution_count": null,
      "metadata": {
        "id": "_3zNAo4jbCKF"
      },
      "outputs": [],
      "source": [
        "## Exercício 1 - Dataset Digits do sklearn\n",
        "\n",
        "# Acesso: https://scikit-learn.org/stable/modules/generated/sklearn.datasets.load_digits.html#sklearn.datasets.load_digits\n",
        "\n",
        "from sklearn.datasets import load_digits\n",
        "from sklearn.model_selection import train_test_split\n",
        "from sklearn.neural_network import MLPClassifier\n",
        "from sklearn.tree import DecisionTreeClassifier\n",
        "\n",
        "digits = load_digits()\n",
        "\n",
        "digits.keys()\n",
        "\n",
        "X = digits.data\n",
        "y = digits.target\n",
        "\n",
        "import matplotlib.pyplot as plt\n",
        "plt.matshow(digits.images[0])\n",
        "\n",
        "res = train_test_split(X, y, train_size=0.8, test_size=0.2, random_state=None, stratify=y)\n",
        "train_data, test_data, train_labels, test_labels = res\n",
        "\n",
        "#mlp = MLPClassifier(hidden_layer_sizes=(5,), activation='logistic', max_iter=2000)\n",
        "mlp = DecisionTreeClassifier()\n",
        "mlp.fit(train_data, train_labels)\n",
        "\n",
        "predictions = mlp.predict(test_data)\n",
        "\n",
        "from sklearn.metrics import accuracy_score\n",
        "accuracy_score(test_labels, predictions)\n",
        "\n",
        "# Treinar MLP (2 topologias diferentes)\n",
        "# Treinar Árvore de Decisão (com Entropia e Gini)\n",
        "# Treinar Árvore de Decisão com Max_Length = 2\n",
        "# Treinar KNN (com duas características diferentes)"
      ]
    },
    {
      "cell_type": "code",
      "source": [
        "## Exercício 2 - Dataset Diabetes do sklearn (Base de Dados de Regressão)\n",
        "\n",
        "import matplotlib.pyplot as plt\n",
        "import numpy as np\n",
        "\n",
        "from sklearn import datasets, linear_model\n",
        "from sklearn.metrics import mean_squared_error, r2_score\n",
        "\n",
        "# Load the diabetes dataset\n",
        "diabetes_X, diabetes_y = datasets.load_diabetes(return_X_y=True)\n",
        "\n",
        "# Use only one feature\n",
        "diabetes_X = diabetes_X[:, np.newaxis, 2]\n",
        "\n",
        "# Split the data into training/testing sets\n",
        "diabetes_X_train = diabetes_X[:-20]\n",
        "diabetes_X_test = diabetes_X[-20:]\n",
        "\n",
        "# Split the targets into training/testing sets\n",
        "diabetes_y_train = diabetes_y[:-20]\n",
        "diabetes_y_test = diabetes_y[-20:]\n",
        "\n",
        "# Create linear regression object\n",
        "regr = linear_model.LinearRegression()\n",
        "\n",
        "# Train the model using the training sets\n",
        "regr.fit(diabetes_X_train, diabetes_y_train)\n",
        "\n",
        "# Make predictions using the testing set\n",
        "diabetes_y_pred = regr.predict(diabetes_X_test)\n",
        "\n",
        "# The coefficients\n",
        "print(\"Coefficients: \\n\", regr.coef_)\n",
        "# The mean squared error\n",
        "print(\"Mean squared error: %.2f\" % mean_squared_error(diabetes_y_test, diabetes_y_pred))\n",
        "# The coefficient of determination: 1 is perfect prediction\n",
        "print(\"Coefficient of determination: %.2f\" % r2_score(diabetes_y_test, diabetes_y_pred))\n",
        "\n",
        "# Plot outputs\n",
        "plt.scatter(diabetes_X_test, diabetes_y_test, color=\"black\")\n",
        "plt.plot(diabetes_X_test, diabetes_y_pred, color=\"blue\", linewidth=3)\n",
        "\n",
        "plt.xticks(())\n",
        "plt.yticks(())\n",
        "\n",
        "plt.show()\n",
        "\n",
        "# Treinar MLP (2 topologias diferentes) - MLPRegressor()\n",
        "# Treinar Árvore de Decisão - DecisionTreeRegressor()\n",
        "# Treinar Árvore de Decisão com Max_Length = 2 - DecisionTreeRegressor()\n",
        "# Treinar KNN (com duas características diferentes) - KNeighborsRegressor()"
      ],
      "metadata": {
        "id": "NecXgZ5iytCc"
      },
      "execution_count": null,
      "outputs": []
    }
  ]
}