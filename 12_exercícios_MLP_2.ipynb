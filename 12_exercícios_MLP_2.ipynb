{
  "nbformat": 4,
  "nbformat_minor": 0,
  "metadata": {
    "colab": {
      "provenance": [],
      "authorship_tag": "ABX9TyOnkVaPsdXup0acwRXimh2G",
      "include_colab_link": true
    },
    "kernelspec": {
      "name": "python3",
      "display_name": "Python 3"
    },
    "language_info": {
      "name": "python"
    }
  },
  "cells": [
    {
      "cell_type": "markdown",
      "metadata": {
        "id": "view-in-github",
        "colab_type": "text"
      },
      "source": [
        "<a href=\"https://colab.research.google.com/github/tmoura/ED/blob/master/12_exerc%C3%ADcios_MLP_2.ipynb\" target=\"_parent\"><img src=\"https://colab.research.google.com/assets/colab-badge.svg\" alt=\"Open In Colab\"/></a>"
      ]
    },
    {
      "cell_type": "code",
      "execution_count": null,
      "metadata": {
        "id": "_3zNAo4jbCKF"
      },
      "outputs": [],
      "source": [
        "## Exercício 1 - Dataset Digits do sklearn\n",
        "\n",
        "# Acesso: https://scikit-learn.org/stable/modules/generated/sklearn.datasets.load_digits.html#sklearn.datasets.load_digits\n",
        "\n",
        "from sklearn.datasets import load_digits\n",
        "from sklearn.model_selection import train_test_split\n",
        "from sklearn.neural_network import MLPClassifier\n",
        "from sklearn.tree import DecisionTreeClassifier\n",
        "\n",
        "digits = load_digits()\n",
        "\n",
        "digits.keys()\n",
        "\n",
        "X = digits.data\n",
        "y = digits.target\n",
        "\n",
        "import matplotlib.pyplot as plt\n",
        "plt.matshow(digits.images[0])\n",
        "\n",
        "res = train_test_split(X, y, train_size=0.8, test_size=0.2, random_state=None, stratify=y)\n",
        "train_data, test_data, train_labels, test_labels = res\n",
        "\n",
        "#mlp = MLPClassifier(hidden_layer_sizes=(5,), activation='logistic', max_iter=2000)\n",
        "mlp = DecisionTreeClassifier()\n",
        "mlp.fit(train_data, train_labels)\n",
        "\n",
        "predictions = mlp.predict(test_data)\n",
        "\n",
        "from sklearn.metrics import accuracy_score\n",
        "accuracy_score(test_labels, predictions)\n",
        "\n",
        "# Treinar MLP (2 topologias diferentes)\n",
        "# Treinar Árvore de Decisão (com Entropia e Gini)\n",
        "# Treinar Árvore de Decisão com Max_Length = 2\n",
        "# Treinar KNN (com duas características diferentes)"
      ]
    }
  ]
}