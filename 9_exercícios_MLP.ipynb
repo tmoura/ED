{
  "nbformat": 4,
  "nbformat_minor": 0,
  "metadata": {
    "colab": {
      "provenance": [],
      "authorship_tag": "ABX9TyO1g37ew0CwQT8vCg2ffx2G",
      "include_colab_link": true
    },
    "kernelspec": {
      "name": "python3",
      "display_name": "Python 3"
    },
    "language_info": {
      "name": "python"
    }
  },
  "cells": [
    {
      "cell_type": "markdown",
      "metadata": {
        "id": "view-in-github",
        "colab_type": "text"
      },
      "source": [
        "<a href=\"https://colab.research.google.com/github/tmoura/ED/blob/master/9_exerc%C3%ADcios_MLP.ipynb\" target=\"_parent\"><img src=\"https://colab.research.google.com/assets/colab-badge.svg\" alt=\"Open In Colab\"/></a>"
      ]
    },
    {
      "cell_type": "code",
      "source": [
        "## Exercício 1 - Problema do XOR\n",
        "\n",
        "from sklearn.neural_network import MLPClassifier\n",
        "import numpy as np\n",
        "\n",
        "x = np.array([[0, 0], [0, 1], [1, 0], [1, 1]])\n",
        "y = np.array([0, 1, 1, 0])\n",
        "\n",
        "# 1- Importar o modelo MLP do sklearn\n",
        "# 2- Instanciar o modelo escolhendo uma topologia para a rede, função de ativação e número de épocas de execução até 100% de acerto\n",
        "# 3- Treinar o modelo com os dados de treinamento\n",
        "# 4- Fazer o predict com os dados de treinamento\n",
        "# 5- Comparar o resultado do predict com o vetor y\n",
        "\n",
        "model = MLPClassifier(hidden_layer_sizes=(4,2), activation='tanh',max_iter=5000)\n",
        "model = model.fit(x, y)\n",
        "\n",
        "display(model.predict(x))"
      ],
      "metadata": {
        "id": "Q8khw7gpctj0"
      },
      "execution_count": null,
      "outputs": []
    },
    {
      "cell_type": "code",
      "execution_count": null,
      "metadata": {
        "id": "q1ILett_UCmM"
      },
      "outputs": [],
      "source": [
        "## Exercício 2 - Dataset Penguins\n",
        "\n",
        "# 1- Carregar a base de dados Penguins da API do Seaborn\n",
        "# 2- A base precisará ser tratada: Existem valores nulos e dados categóricos\n",
        "# 3- Normalizar todas as colunas (normalizar é deixar todos os valores das colunas entre 0 e 1)\n",
        "# 4- Separar o dataset em X (matriz de features) e y (coluna target)\n",
        "# 5- Gerar as bases de treinamento e teste\n",
        "# 6- Importar o modelo MLP do sklearn\n",
        "# 7- Instanciar o modelo escolhendo uma topologia para a rede, função de ativação e número de épocas de execução até que obtenha uma taxa de acerto estável\n",
        "# 8- Treinar o modelo com os dados de treinamento\n",
        "# 9- Fazer o predict com os dados de teste\n",
        "# 10- Imprimir o percentual de acerto da base de teste"
      ]
    },
    {
      "cell_type": "code",
      "source": [
        "## Exercício 3 - Dataset Phoneme\n",
        "\n",
        "# 1- Carregar a base \"phoneme\"\n",
        "url = \"https://raw.githubusercontent.com/tmoura/machinelearning/master/phoneme.data\"\n",
        "\n",
        "# 2- A coluna 0 é o target\n",
        "# 3- Todas as colunas são numéricas e não possui valores nulos\n",
        "# 4- Separar o dataset em X (matriz de features) e y (coluna target)\n",
        "# 5- Gerar as bases de treinamento e teste\n",
        "# 6- Importar o modelo MLP do sklearn\n",
        "# 7- Instanciar o modelo escolhendo uma topologia para a rede, função de ativação e número de épocas de execução até que obtenha uma taxa de acerto estável\n",
        "# 8- Treinar o modelo com os dados de treinamento\n",
        "# 9- Fazer o predict com os dados de teste\n",
        "# 10- Imprimir o percentual de acerto da base de teste"
      ],
      "metadata": {
        "id": "-w3Yk186ViXm"
      },
      "execution_count": null,
      "outputs": []
    }
  ]
}