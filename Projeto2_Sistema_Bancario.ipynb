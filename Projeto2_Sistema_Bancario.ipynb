{
  "nbformat": 4,
  "nbformat_minor": 0,
  "metadata": {
    "colab": {
      "name": "Projeto2 - Sistema_Bancario.ipynb",
      "provenance": [],
      "authorship_tag": "ABX9TyP8yL3aLY69JxLITyJe4Urz",
      "include_colab_link": true
    },
    "kernelspec": {
      "name": "python3",
      "display_name": "Python 3"
    },
    "language_info": {
      "name": "python"
    }
  },
  "cells": [
    {
      "cell_type": "markdown",
      "metadata": {
        "id": "view-in-github",
        "colab_type": "text"
      },
      "source": [
        "<a href=\"https://colab.research.google.com/github/tmoura/ED/blob/master/Projeto2_Sistema_Bancario.ipynb\" target=\"_parent\"><img src=\"https://colab.research.google.com/assets/colab-badge.svg\" alt=\"Open In Colab\"/></a>"
      ]
    },
    {
      "cell_type": "markdown",
      "metadata": {
        "id": "G_N1-87wAKFl"
      },
      "source": [
        "### **Projeto 2 - Sistema Bancário**"
      ]
    },
    {
      "cell_type": "markdown",
      "metadata": {
        "id": "xBEiv7TiAsGn"
      },
      "source": [
        "## Implementação de Fila"
      ]
    },
    {
      "cell_type": "code",
      "metadata": {
        "id": "T_RotiftAODm"
      },
      "source": [
        "class FilaException(Exception):\n",
        "  def __init__(self,mensagem):\n",
        "    super().__init__(mensagem)\n",
        "\n",
        "class FilaEncadeada:\n",
        "  def __init__(self):\n",
        "    self.__inicio = None\n",
        "    self.__tamanho = 0\n",
        "\n",
        "  @property\n",
        "  def inicio(self):\n",
        "      if self.vazia():\n",
        "        raise FilaException('A fila está vazia')\n",
        "\n",
        "      return self.__inicio\n",
        "\n",
        "  def vazia(self):\n",
        "    return self.__tamanho == 0\n",
        "  \n",
        "  def tamanho(self):\n",
        "    return self.__tamanho\n",
        "  \n",
        "  def inserir(self, dado):\n",
        "      novo = Node(dado)\n",
        "      \n",
        "      aux = self.__inicio\n",
        "\n",
        "      if aux == None:\n",
        "          self.__inicio = novo\n",
        "\n",
        "      else:\n",
        "          while aux.prox != None:\n",
        "              aux = aux.prox\n",
        "      \n",
        "          aux.prox = novo\n",
        "\n",
        "      self.__tamanho += 1 \n",
        "\n",
        "  def remover(self):\n",
        "      if self.vazia():\n",
        "        raise FilaException('A fila está vazia')\n",
        "\n",
        "      self.__inicio = self.__inicio.prox\n",
        "      self.__tamanho -= 1  \n",
        "  \n",
        "  def __str__(self):\n",
        "    saida = 'Fila: ['\n",
        "    p = self.__inicio\n",
        "\n",
        "    while p != None:\n",
        "      saida += f'{p.dado}'\n",
        "      p = p.prox\n",
        "\n",
        "      if p != None:\n",
        "        saida += ', '\n",
        "    \n",
        "    saida += ']'\n",
        "    return saida\n",
        "\n",
        "  def imprimir(self):\n",
        "    print(self.__str__())\n",
        "\n",
        "  def modificar(self, novoValor):\n",
        "      if self.vazia():\n",
        "        raise FilaException('A fila está vazia')\n",
        "      \n",
        "      self.__topo.dado = novoValor"
      ],
      "execution_count": null,
      "outputs": []
    },
    {
      "cell_type": "markdown",
      "metadata": {
        "id": "VnK4YPJXA0SE"
      },
      "source": [
        "## Implementação de Pilha"
      ]
    },
    {
      "cell_type": "code",
      "metadata": {
        "id": "MWkdhJZqA5Vl"
      },
      "source": [
        "class PilhaException(Exception):\n",
        "  def __init__(self,mensagem):\n",
        "    super().__init__(mensagem)\n",
        "\n",
        "class PilhaEncadeada:\n",
        "  def __init__(self):\n",
        "    self.__topo = None\n",
        "    self.__tamanho = 0\n",
        "\n",
        "  @property\n",
        "  def topo(self):\n",
        "      if self.vazia():\n",
        "        raise PilhaException('A pilha está vazia')\n",
        "\n",
        "      return self.__topo\n",
        "\n",
        "  def vazia(self):\n",
        "    return self.__tamanho == 0\n",
        "  \n",
        "  def tamanho(self):\n",
        "    return self.__tamanho\n",
        "  \n",
        "  def inserir(self, dado):\n",
        "    no = Node(dado)\n",
        "    no.prox = self.__topo\n",
        "    self.__topo = no\n",
        "\n",
        "    self.__tamanho += 1  \n",
        "\n",
        "  def remover(self):\n",
        "      if self.vazia():\n",
        "        raise PilhaException('A pilha está vazia')\n",
        "\n",
        "      self.__topo = self.__topo.prox\n",
        "      self.__tamanho -= 1  \n",
        "  \n",
        "  def __str__(self):\n",
        "    saida = 'Pilha: ['\n",
        "    p = self.__topo\n",
        "\n",
        "    while p != None:\n",
        "      saida += f'{p.dado}'\n",
        "      p = p.prox\n",
        "\n",
        "      if p != None:\n",
        "        saida += ', '\n",
        "    \n",
        "    saida += ']'\n",
        "    return saida\n",
        "\n",
        "  def imprimir(self):\n",
        "    print(self.__str__())\n",
        "\n",
        "  def modificar(self, novoValor):\n",
        "      if self.vazia():\n",
        "        raise PilhaException('A pilha está vazia')\n",
        "      \n",
        "      self.__topo.dado = novoValor"
      ],
      "execution_count": null,
      "outputs": []
    }
  ]
}