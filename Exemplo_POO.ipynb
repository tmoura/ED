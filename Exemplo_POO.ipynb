{
  "nbformat": 4,
  "nbformat_minor": 0,
  "metadata": {
    "colab": {
      "name": "Exemplo-POO.ipynb",
      "provenance": [],
      "collapsed_sections": [],
      "authorship_tag": "ABX9TyOod+8uOhsAnzfOhAgk/Gmj",
      "include_colab_link": true
    },
    "kernelspec": {
      "name": "python3",
      "display_name": "Python 3"
    }
  },
  "cells": [
    {
      "cell_type": "markdown",
      "metadata": {
        "id": "view-in-github",
        "colab_type": "text"
      },
      "source": [
        "<a href=\"https://colab.research.google.com/github/tmoura/ED/blob/master/Exemplo_POO.ipynb\" target=\"_parent\"><img src=\"https://colab.research.google.com/assets/colab-badge.svg\" alt=\"Open In Colab\"/></a>"
      ]
    },
    {
      "cell_type": "code",
      "metadata": {
        "id": "KcCK444fba5I"
      },
      "source": [
        "class Motor:\n",
        "    def __init__(self, motorizacao, combustivel = 'flex'):\n",
        "        self._motorizacao = motorizacao\n",
        "        self._combustivel = combustivel\n",
        "    \n",
        "    def get_motorizacao(self):\n",
        "        return self._motorizacao\n",
        "\n",
        "    def set_motorizacao(self, nova_motorizacao):\n",
        "        self._motorizacao = nova_motorizacao\n",
        "\n",
        "    def get_combustivel(self):\n",
        "        return self._combustivel\n",
        "\n",
        "    def set_combustivel(self, novo_combustivel):\n",
        "        self._combustivel = novo_combustivel        \n",
        "\n",
        "    def __str__(self):\n",
        "        return \"Motor: {}L, Combustível: {}\".format(self._motorizacao, self._combustivel)\n"
      ],
      "execution_count": 1,
      "outputs": []
    },
    {
      "cell_type": "code",
      "metadata": {
        "id": "7QQZ_uBfbhhE"
      },
      "source": [
        "class Dimensao:\n",
        "   def __init__(self, altura, largura, comprimento):\n",
        "    self._altura = altura\n",
        "    self._largura = largura\n",
        "    self._comprimento = comprimento\n",
        "    \n",
        "   def get_altura(self):\n",
        "    return self._altura\n",
        "   def get_largura(self):\n",
        "    return self._largura\n",
        "   def get_comprimento(self):\n",
        "    return self._comprimento\n",
        "\n",
        "   def set_altura(self, nova_altura):\n",
        "    self._altura = nova_altura\n",
        "   def set_largura(self, nova_largura):\n",
        "    self._largura = nova_largura\n",
        "   def set_comprimento(self, novo_comprimento):\n",
        "    self._comprimento = novo_comprimento\n",
        "\n",
        "   def __str__(self):\n",
        "    return \"Altura: {}, Largura: {}, Comprimento: {}\".format(self._altura, self._largura, self._comprimento)"
      ],
      "execution_count": 2,
      "outputs": []
    },
    {
      "cell_type": "code",
      "metadata": {
        "id": "gsfv2s5ybkyp"
      },
      "source": [
        "class Carro:\n",
        "    def __init__(self, cor, placa, motor, dimensao):\n",
        "        self._cor = cor\n",
        "        self._placa = placa\n",
        "        self._motor = motor\n",
        "        self._dimensao = dimensao\n",
        "\n",
        "    def get_motor(self):\n",
        "        return self._motor\n",
        "    def get_placa(self):\n",
        "        return self._placa\n",
        "    def get_cor(self):\n",
        "        return self._cor\n",
        "    def get_dimensao(self):\n",
        "        return self._dimensao        \n",
        "    \n",
        "    def set_motor(self, novo_motor):\n",
        "        self._motor = novo_motor\n",
        "    def set_placa(self, nova_placa):\n",
        "        self._placa = nova_placa\n",
        "    def set_cor(self, nova_cor):\n",
        "        self._cor = nova_cor\n",
        "    def set_dimensao(self, nova_dimensao):\n",
        "        self._dimensao = nova_dimensao\n",
        "\n",
        "    def __str__(self):\n",
        "        return \"Cor: {}, Placa: {}, Motor=> {}, Dimensao => {}\".format(self._cor, self._placa, self._motor, self._dimensao)"
      ],
      "execution_count": 10,
      "outputs": []
    },
    {
      "cell_type": "code",
      "metadata": {
        "id": "BNh-Crelbrmi"
      },
      "source": [
        "if __name__ == \"__main__\":\n",
        "    motor = Motor('1.6','gasolina')\n",
        "\n",
        "    dimensao = Dimensao(1.67,1.81,4.37)\n",
        "\n",
        "    carro = Carro('vermelho','ABC-1234',motor, dimensao)\n",
        "    \n",
        "    print(carro)\n",
        "\n",
        "    # Objetos anulados\n",
        "    motor = None\n",
        "    dimensao = None\n",
        "\n",
        "    # Alterar a altura da Dimensão\n",
        "    carro.get_dimensao().set_altura(2.0)\n",
        "\n",
        "    # Alterar o combustível do motor\n",
        "    carro.get_motor().set_combustivel('flex')\n",
        "\n",
        "    print(carro)\n",
        "\n",
        "    # Imprimir a litragem do motor\n",
        "    print(carro.get_motor().get_motorizacao())"
      ],
      "execution_count": null,
      "outputs": []
    }
  ]
}