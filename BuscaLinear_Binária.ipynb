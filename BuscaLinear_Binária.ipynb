{
  "nbformat": 4,
  "nbformat_minor": 0,
  "metadata": {
    "colab": {
      "name": "BuscaLinear_Binária.ipynb",
      "provenance": [],
      "authorship_tag": "ABX9TyPK1MVbkNm8m1mr/05Znbza",
      "include_colab_link": true
    },
    "kernelspec": {
      "name": "python3",
      "display_name": "Python 3"
    }
  },
  "cells": [
    {
      "cell_type": "markdown",
      "metadata": {
        "id": "view-in-github",
        "colab_type": "text"
      },
      "source": [
        "<a href=\"https://colab.research.google.com/github/tmoura/ED/blob/master/BuscaLinear_Bin%C3%A1ria.ipynb\" target=\"_parent\"><img src=\"https://colab.research.google.com/assets/colab-badge.svg\" alt=\"Open In Colab\"/></a>"
      ]
    },
    {
      "cell_type": "markdown",
      "metadata": {
        "id": "YzMxTBQWmyiq"
      },
      "source": [
        "### **Busca Linear Recursiva**"
      ]
    },
    {
      "cell_type": "code",
      "metadata": {
        "id": "6qmqDU8Jmv2l"
      },
      "source": [
        "# Busca Linear Recursiva\n",
        "#\n",
        "# array: array (List) a ser percorrido\n",
        "# index: o índice inicial a ser iniciada a busca\n",
        "# chave: O valor a ser procurado no array\n",
        "#\n",
        "# Retorna o indice do elemento do array quando encontrado, ou -1 se ausente\n",
        "def buscaLinearRecursiva (array, index, chave):\n",
        "\n",
        "    if (index >= len(array)):\n",
        "        return -1\n",
        "    \n",
        "    if(array[index] == chave):\n",
        "        return index\n",
        "    else:\n",
        "        return buscaLinearRecursiva(array, index + 1, chave)\n",
        "    \t\n",
        "print('Pesquisa: Busca Linear Recursiva')\n",
        "print('*' * 35)\n",
        "\n",
        "array = [20,5,15,4,2,9,11]\n",
        "chave = 111\n",
        "\n",
        "print('Array de busca:',array)\n",
        "print('Chave:',chave)\n",
        "\n",
        "index = buscaLinearRecursiva(array,0, chave)\n",
        "\n",
        "if( index >= 0):\n",
        "    print('Chave',chave,'encontrada na posição',index,'do array')"
      ],
      "execution_count": null,
      "outputs": []
    },
    {
      "cell_type": "markdown",
      "metadata": {
        "id": "QyAC91SknR7W"
      },
      "source": [
        "### **Busca Linear Ordenada Recursiva**"
      ]
    },
    {
      "cell_type": "code",
      "metadata": {
        "id": "pDXgH1HMnZfH"
      },
      "source": [
        "def busca_linear_ordenada_recursiva(array,chave):\n",
        "    return busca_recursiva(array,0,chave)\n",
        "\n",
        "def busca_recursiva(array, index, chave):\n",
        "    if index >= len(array):\n",
        "        return -1\n",
        "\n",
        "    if ( chave == array[index] ):\n",
        "        return index # elemento foi encontrado\n",
        "    else:\n",
        "        return busca_recursiva(array, index+1, chave)\n",
        "        \n",
        "    \t\n",
        "print('Pesquisa: Busca Linear Ordenada')\n",
        "print('*' * 35)\n",
        "\n",
        "array = [20,5,15,4,2,9,11]\n",
        "array = sorted(array)\n",
        "chave = 7\n",
        "\n",
        "print('Array de busca:',array)\n",
        "print('Chave:',chave)\n",
        "\n",
        "index = busca_linear_ordenada_recursiva(array,chave)\n",
        "\n",
        "if( index >= 0):\n",
        "    print('Chave',chave,'encontrada no indice',index,'do array')"
      ],
      "execution_count": null,
      "outputs": []
    },
    {
      "cell_type": "markdown",
      "metadata": {
        "id": "pD6tJestnpJ4"
      },
      "source": [
        "### **Busca Binária**"
      ]
    },
    {
      "cell_type": "code",
      "metadata": {
        "id": "A9puJYuUnvLM"
      },
      "source": [
        "def buscaBinariaIterativa(array, chave):\n",
        "\n",
        "  inicio = 0\n",
        "  fim = len(array)-1\n",
        "  \n",
        "  while not inicio > fim:\n",
        "    meio = (inicio + fim)//2\n",
        "\n",
        "    if ( chave == array[meio] ):\n",
        "      return meio # elemento foi encontrado! \n",
        "    elif ( chave < array[meio] ):\n",
        "      fim = meio -1\n",
        "    else:\n",
        "      inicio = meio +1\n",
        "\n",
        "  return -1\n",
        "\n",
        "    \t\n",
        "print('Pesquisa: Busca Binária Recursiva')\n",
        "print('*' * 35)\n",
        "\n",
        "array = [20,5,15,4,2,9,11]\n",
        "array = sorted(array)\n",
        "chave = 12\n",
        "\n",
        "print('Array de busca:',array)\n",
        "print('Chave:',chave)\n",
        "\n",
        "index = buscaBinariaIterativa(array,chave)\n",
        "\n",
        "if( index >= 0):\n",
        "    print('Chave',chave,'encontrada no indice ',index,'do array')\n",
        "else:\n",
        "    print('Chave',chave,'NÃO encontrada no array')"
      ],
      "execution_count": null,
      "outputs": []
    },
    {
      "cell_type": "markdown",
      "metadata": {
        "id": "ymfA3ximnf7r"
      },
      "source": [
        "### **Busca Binária Recursiva**"
      ]
    },
    {
      "cell_type": "code",
      "metadata": {
        "id": "yncwJnOanlge"
      },
      "source": [
        "def buscaBinaria(array, chave):\n",
        "    return buscaBinariaRecursiva(array,chave,0,len(array)-1)\n",
        "    \n",
        "def buscaBinariaRecursiva(array, chave, inicio,fim):\n",
        "\n",
        "    if( inicio > fim):\n",
        "        return -1\n",
        "    else:\n",
        "        meio = (inicio + fim)//2\n",
        "        if ( chave == array[meio] ):\n",
        "            return meio # elemento foi encontrado! \n",
        "        elif ( chave < array[meio] ):\n",
        "            return buscaBinariaRecursiva(array,chave,inicio,meio-1)\n",
        "        else:\n",
        "            return buscaBinariaRecursiva(array,chave,meio+1,fim)\n",
        "\t\n",
        "\n",
        "    \t\n",
        "print('Pesquisa: Busca Binária Recursiva')\n",
        "print('*' * 35)\n",
        "\n",
        "array = [20,5,15,4,2,9,11]\n",
        "array = sorted(array)\n",
        "chave = 12\n",
        "\n",
        "print('Array de busca:',array)\n",
        "print('Chave:',chave)\n",
        "\n",
        "index = buscaBinaria(array,chave)\n",
        "\n",
        "if( index >= 0):\n",
        "    print('Chave',chave,'encontrada no indice ',index,'do array')\n",
        "else:\n",
        "    print('Chave',chave,'NÃO encontrada no array')"
      ],
      "execution_count": null,
      "outputs": []
    }
  ]
}