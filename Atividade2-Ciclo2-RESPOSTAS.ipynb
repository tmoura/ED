{
  "nbformat": 4,
  "nbformat_minor": 0,
  "metadata": {
    "colab": {
      "provenance": [],
      "include_colab_link": true
    },
    "kernelspec": {
      "name": "python3",
      "display_name": "Python 3"
    },
    "language_info": {
      "name": "python"
    }
  },
  "cells": [
    {
      "cell_type": "markdown",
      "metadata": {
        "id": "view-in-github",
        "colab_type": "text"
      },
      "source": [
        "<a href=\"https://colab.research.google.com/github/tmoura/ED/blob/master/Atividade2-Ciclo2-RESPOSTAS.ipynb\" target=\"_parent\"><img src=\"https://colab.research.google.com/assets/colab-badge.svg\" alt=\"Open In Colab\"/></a>"
      ]
    },
    {
      "cell_type": "markdown",
      "source": [],
      "metadata": {
        "id": "THZAd6mxdfXN"
      }
    },
    {
      "cell_type": "code",
      "source": [
        "## Exercício 1 - Dataset Breast Cancer do sklearn\n",
        "\n",
        "# Acesso: https://scikit-learn.org/stable/modules/generated/sklearn.datasets.load_breast_cancer.html#sklearn.datasets.load_breast_cancer\n",
        "\n",
        "# 1) Importar o pacote \"sklearn.datasets\" e o \"load_breast_cancer\"\n",
        "# 2) Carregar o dataset através do método: load_breast_cancer()\n",
        "# 3) A chave \"data\" são as features e a chave \"target\" é o y. Separe os dados em 2 variáveis diferentes\n",
        "# O dataset possui 30 features. Vamos aplicar métodos de seleção de features analisando se o desempenho é melhorado!\n",
        "# 4) Transformar os dados em um dataframe pandas:\n",
        "\n",
        "# df = pd.DataFrame(data.data, columns=data.feature_names)\n",
        "# df['target'] = data.target\n",
        "\n",
        "# 5) Separe o conjunto de dados em treinamento e teste usando o método: \"train_test_split\" (80% - 20%)\n",
        "# 6) Treinar uma árvores de decisão, fazer a predição e calcular a taxa de acerto\n",
        "\n",
        "# SelectKBest para classificação:\n",
        "\n",
        "# 7) Usar o SelectKBest com a função: f_classif para selecionar as 10 melhores features do conjunto total: (X,y)\n",
        "# 8) Filtrar as colunas selecionadas do conjunto X_train e X_test\n",
        "# 9) Treinar uma nova árvore de decisão com as features filtradas\n",
        "# 10) Fazer a predição e calcular a taxa de acerto\n",
        "\n",
        "# Recursive Filter Elimination (RFE) - método wrapper\n",
        "\n",
        "# 11) Usar o RFE com árvore de decisão para selecionar as 10 melhores features do conjunto total: (X,y)\n",
        "# 12) Filtrar as colunas selecionadas do conjunto X_train e X_test\n",
        "# 13) Treinar uma nova árvore de decisão com as features filtradas\n",
        "# 14) Fazer a predição e calcular a taxa de acerto\n",
        "\n",
        "\n",
        "from sklearn.datasets import load_breast_cancer\n",
        "import pandas as pd\n",
        "from sklearn.feature_selection import SelectKBest\n",
        "from sklearn.feature_selection import f_classif\n",
        "from sklearn.model_selection import train_test_split\n",
        "from sklearn.tree import DecisionTreeClassifier\n",
        "from sklearn import metrics\n",
        "\n",
        "data = load_breast_cancer()\n",
        "\n",
        "df = pd.DataFrame(data.data, columns=data.feature_names)\n",
        "\n",
        "df['target'] = data.target\n",
        "\n",
        "y = df['target']\n",
        "X = df.drop(['target'], axis=1)\n",
        "\n",
        "# Add the target variable to the dataframe\n",
        "X_train, X_test, y_train, y_test = train_test_split(X, y, test_size=0.2, stratify=y) # 80% treino e 20% teste\n",
        "\n",
        "model = DecisionTreeClassifier()\n",
        "model.fit(X_train, y_train)\n",
        "\n",
        "result = model.predict(X_test)\n",
        "acc = metrics.accuracy_score(result, y_test)\n",
        "show = round(acc * 100)\n",
        "print(\"{}%\".format(show))"
      ],
      "metadata": {
        "colab": {
          "base_uri": "https://localhost:8080/"
        },
        "id": "gRhhyaY3PJd0",
        "outputId": "6a46e0e4-fcb1-497f-bf3e-fe69aa02c7d2"
      },
      "execution_count": 31,
      "outputs": [
        {
          "output_type": "stream",
          "name": "stdout",
          "text": [
            "90%\n"
          ]
        }
      ]
    },
    {
      "cell_type": "code",
      "source": [
        "f_classifteste = SelectKBest(score_func=f_classif,k=10)\n",
        "\n",
        "modelofeat = f_classifteste.fit(X,y)\n",
        "\n",
        "modelofeat.get_feature_names_out()\n",
        "\n",
        "cols = modelofeat.get_support(indices=True)\n",
        "\n",
        "X_train2 = X_train.iloc[:,cols]\n",
        "X_test2 = X_test.iloc[:,cols]\n",
        "\n",
        "model2 = DecisionTreeClassifier()\n",
        "model2.fit(X_train2, y_train)\n",
        "\n",
        "result2 = model2.predict(X_test2)\n",
        "acc = metrics.accuracy_score(result2, y_test)\n",
        "show = round(acc * 100)\n",
        "print(\"{}%\".format(show))"
      ],
      "metadata": {
        "colab": {
          "base_uri": "https://localhost:8080/"
        },
        "id": "S_LQH8M_R57y",
        "outputId": "3f6b1203-704e-4cae-8538-82920cff99df"
      },
      "execution_count": 32,
      "outputs": [
        {
          "output_type": "stream",
          "name": "stdout",
          "text": [
            "92%\n"
          ]
        }
      ]
    },
    {
      "cell_type": "code",
      "source": [
        "from sklearn.feature_selection import RFE\n",
        "\n",
        "model3 = DecisionTreeClassifier()\n",
        "\n",
        "rfe = RFE(model3,n_features_to_select=10)\n",
        "\n",
        "fitrfe = rfe.fit(X,y)\n",
        "\n",
        "cols = fitrfe.get_support(indices=True)\n",
        "\n",
        "X_train3 = X_train.iloc[:,cols]\n",
        "X_test3 = X_test.iloc[:,cols]\n",
        "\n",
        "model3.fit(X_train3, y_train)\n",
        "\n",
        "result3 = model3.predict(X_test3)\n",
        "acc = metrics.accuracy_score(result3, y_test)\n",
        "show = round(acc * 100)\n",
        "print(\"{}%\".format(show))"
      ],
      "metadata": {
        "colab": {
          "base_uri": "https://localhost:8080/"
        },
        "id": "vtTDQ1OeUdfa",
        "outputId": "3d99b9fe-2b60-4ed1-cab2-1669e7fec5e2"
      },
      "execution_count": 33,
      "outputs": [
        {
          "output_type": "stream",
          "name": "stdout",
          "text": [
            "97%\n"
          ]
        }
      ]
    }
  ]
}