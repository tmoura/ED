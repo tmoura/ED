{
  "nbformat": 4,
  "nbformat_minor": 0,
  "metadata": {
    "colab": {
      "provenance": [],
      "include_colab_link": true
    },
    "kernelspec": {
      "name": "python3",
      "display_name": "Python 3"
    },
    "language_info": {
      "name": "python"
    }
  },
  "cells": [
    {
      "cell_type": "markdown",
      "metadata": {
        "id": "view-in-github",
        "colab_type": "text"
      },
      "source": [
        "<a href=\"https://colab.research.google.com/github/tmoura/ED/blob/master/Atividade3-Ciclo2-RESPOSTAS.ipynb\" target=\"_parent\"><img src=\"https://colab.research.google.com/assets/colab-badge.svg\" alt=\"Open In Colab\"/></a>"
      ]
    },
    {
      "cell_type": "markdown",
      "source": [
        "### Dataset criado artificialmente"
      ],
      "metadata": {
        "id": "C_u4Al-HKTvs"
      }
    },
    {
      "cell_type": "code",
      "source": [
        "import pandas as pd\n",
        "import matplotlib.pyplot as plt\n",
        "import seaborn as sns\n",
        "from sklearn.datasets import make_classification\n",
        "\n",
        "X, y = make_classification(n_samples=1000,\n",
        "                        n_features=2,\n",
        "                        n_redundant=0,\n",
        "                        n_clusters_per_class=1,\n",
        "                        class_sep=0,\n",
        "                        weights=[0.95])\n",
        "\n",
        "# trasform arrays into pandas df and series\n",
        "X = pd.DataFrame(X, columns =['varA', 'varB'])\n",
        "y = pd.Series(y)\n",
        "\n",
        "print(y.value_counts())\n",
        "\n",
        "sns.scatterplot(\n",
        "    data=X, x=\"varA\", y=\"varB\", hue=y\n",
        ")\n",
        "\n",
        "plt.show()"
      ],
      "metadata": {
        "id": "5WY-F2FDGbmp"
      },
      "execution_count": null,
      "outputs": []
    },
    {
      "cell_type": "code",
      "source": [
        "# 1) Usar a base de dados desbalanceada gerada na célula anterior para comparar os métodos de Oversampling e Undersampling\n",
        "# 2) Treinar uma árvore de decisão e verificar a acurácia dela para o dataset gerado\n",
        "# 3) Usar o NearMiss para fazer Undersampling da classe majoritária\n",
        "# 4) Treinar uma árvore de decisão com os dados modificados pelo NearMiss\n",
        "# 5) Verificar a acurária da árvore de decisão treinada anteriormente\n",
        "# 6) Usar o método de Oversamplig SMOTE para alterar o dataset original\n",
        "# 7) Treinar uma árvore de decisão com os dados alterados pelo SMOTE\n",
        "# 8) Verificar o desempenho da árvore treinada anteriormente\n",
        "\n",
        "# Na API do SkLearn existem mais métodos de Over e Undersampling, além dos já vistos na aula (NearMiss e SMOTE). Vamos usar dois desses métodos: \"RandomUnderSampler\" e \"RandomOverSampler\"\n",
        "# O link de acesso para a API é: https://imbalanced-learn.org/stable/introduction.html\n",
        "\n",
        "# 9) Usar o método \"RandomUnderSampler\" para alterar o dataset original\n",
        "# 10) Treinar uma árvore de decisão com os dados alterados pelo \"RandomUnderSampler\"\n",
        "# 11) Verificar o desempenho da árvore treinada anteriormente\n",
        "# 12) Usar o método \"RandomOverSampler\" para alterar o dataset original\n",
        "# 13) Treinar uma árvore de decisão com os dados alterados pelo \"RandomOverSampler\"\n",
        "# 14) Verificar o desempenho da árvore treinada anteriormente"
      ],
      "metadata": {
        "id": "tYBnJmCJK2ND"
      },
      "execution_count": 17,
      "outputs": []
    }
  ]
}