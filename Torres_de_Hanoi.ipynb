{
  "nbformat": 4,
  "nbformat_minor": 0,
  "metadata": {
    "colab": {
      "name": "Torres de Hanoi.ipynb",
      "provenance": [],
      "authorship_tag": "ABX9TyN+rKVsXZnukNAGLqMm4Jyu",
      "include_colab_link": true
    },
    "kernelspec": {
      "name": "python3",
      "display_name": "Python 3"
    }
  },
  "cells": [
    {
      "cell_type": "markdown",
      "metadata": {
        "id": "view-in-github",
        "colab_type": "text"
      },
      "source": [
        "<a href=\"https://colab.research.google.com/github/tmoura/ED/blob/master/Torres_de_Hanoi.ipynb\" target=\"_parent\"><img src=\"https://colab.research.google.com/assets/colab-badge.svg\" alt=\"Open In Colab\"/></a>"
      ]
    },
    {
      "cell_type": "markdown",
      "metadata": {
        "id": "pS-TLtxFRhQ9"
      },
      "source": [
        "## Torres de Hanoi\n",
        "\n",
        "Código recursivo das Torres de Hanoi"
      ]
    },
    {
      "cell_type": "code",
      "metadata": {
        "id": "ZSflgTDqRFoK"
      },
      "source": [
        "####\n",
        "#\n",
        "# n - Número de Discos\n",
        "#\n",
        "####\n",
        "def hanoi(n, de, para, aux):\n",
        "  if(n > 0):\n",
        "    hanoi(n-1, de, aux, para)\n",
        "    \n",
        "    print (\"Mova o disco \" + str(n) + \n",
        "    \" de \" + de + \" para \" + para)\n",
        "    \n",
        "    hanoi(n-1, aux, para, de)\n",
        "\n",
        "\n",
        "if __name__ == \"__main__\":\n",
        "  hanoi(3,\"A\",\"C\",\"B\")"
      ],
      "execution_count": null,
      "outputs": []
    }
  ]
}