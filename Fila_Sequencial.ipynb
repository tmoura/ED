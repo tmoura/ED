{
  "nbformat": 4,
  "nbformat_minor": 0,
  "metadata": {
    "colab": {
      "name": "Fila_Sequencial.ipynb",
      "provenance": [],
      "authorship_tag": "ABX9TyMChqbdmlQMx77cEGtbzThj",
      "include_colab_link": true
    },
    "kernelspec": {
      "name": "python3",
      "display_name": "Python 3"
    }
  },
  "cells": [
    {
      "cell_type": "markdown",
      "metadata": {
        "id": "view-in-github",
        "colab_type": "text"
      },
      "source": [
        "<a href=\"https://colab.research.google.com/github/tmoura/ED/blob/master/Fila_Sequencial.ipynb\" target=\"_parent\"><img src=\"https://colab.research.google.com/assets/colab-badge.svg\" alt=\"Open In Colab\"/></a>"
      ]
    },
    {
      "cell_type": "markdown",
      "metadata": {
        "id": "DeHU2P2Yn2XL",
        "colab_type": "text"
      },
      "source": [
        "## **Exceção FilaException (Herda da classe Exception)**"
      ]
    },
    {
      "cell_type": "code",
      "metadata": {
        "id": "3rxGqDXwny9t",
        "colab_type": "code",
        "colab": {}
      },
      "source": [
        "class FilaException(Exception):\n",
        "  def __init__(self, mensagem):\n",
        "    super().__init__(mensagem)"
      ],
      "execution_count": 1,
      "outputs": []
    },
    {
      "cell_type": "markdown",
      "metadata": {
        "id": "mIXFQyRln7UD",
        "colab_type": "text"
      },
      "source": [
        "## **Classe FilaSequencial**"
      ]
    },
    {
      "cell_type": "code",
      "metadata": {
        "id": "FFTL0akRn-Kk",
        "colab_type": "code",
        "colab": {}
      },
      "source": [
        "class FilaSequencial:\n",
        "  def __init__(self):\n",
        "    self.__dados = []\n",
        "\n",
        "  def vazia(self):\n",
        "    return len(self.__dados) == 0\n",
        "\n",
        "  def tamanho(self):\n",
        "    return len(self.__dados)\n",
        "\n",
        "  def inicio(self):\n",
        "    \n",
        "      return self.__dados[0]\n",
        "    \n",
        "  def inserir(self, dado):\n",
        "\n",
        "      self.__dados.append(dado)\n",
        "\n",
        "  def remover(self):\n",
        "\n",
        "      if(self.vazia()):\n",
        "        raise FilaException('A fila está vazia')\n",
        "\n",
        "      return self.__dados.pop(0)\n",
        "\n",
        "  def __str__(self):\n",
        "    return self.__dados.__str__()\n",
        "  \n",
        "  def imprimir(self):\n",
        "    print(self.__str__())\n",
        "\n",
        "  def modificar(self, novoValor):\n",
        "      \n",
        "      if (self.vazia()):\n",
        "        raise FilaException('A fila está vazia')\n",
        "      \n",
        "      self.__dados[0] = novoValor\n",
        "      return True"
      ],
      "execution_count": 2,
      "outputs": []
    },
    {
      "cell_type": "markdown",
      "metadata": {
        "id": "ryS0SPRWoJ-S",
        "colab_type": "text"
      },
      "source": [
        "## **Programa Principal Teste**"
      ]
    },
    {
      "cell_type": "code",
      "metadata": {
        "id": "LbEIe87hoOT7",
        "colab_type": "code",
        "colab": {}
      },
      "source": [
        "f = FilaSequencial()\n",
        "\n",
        "for i in range(1,11):\n",
        "  f.inserir(i * 10)\n",
        "\n",
        "print(f)\n",
        "\n",
        "f.remover()\n",
        "print(f)\n",
        "f.remover()\n",
        "print(f)\n",
        "f.remover()\n",
        "print(f)"
      ],
      "execution_count": null,
      "outputs": []
    }
  ]
}