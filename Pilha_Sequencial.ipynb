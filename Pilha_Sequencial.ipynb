{
  "nbformat": 4,
  "nbformat_minor": 0,
  "metadata": {
    "colab": {
      "name": "Pilha_Sequencial.ipynb",
      "provenance": [],
      "authorship_tag": "ABX9TyMpe7JK2+zfRVozxuOP/NXs",
      "include_colab_link": true
    },
    "kernelspec": {
      "name": "python3",
      "display_name": "Python 3"
    }
  },
  "cells": [
    {
      "cell_type": "markdown",
      "metadata": {
        "id": "view-in-github",
        "colab_type": "text"
      },
      "source": [
        "<a href=\"https://colab.research.google.com/github/tmoura/ED/blob/master/Pilha_Sequencial.ipynb\" target=\"_parent\"><img src=\"https://colab.research.google.com/assets/colab-badge.svg\" alt=\"Open In Colab\"/></a>"
      ]
    },
    {
      "cell_type": "markdown",
      "metadata": {
        "id": "5mDQ4ddSZWcs",
        "colab_type": "text"
      },
      "source": [
        "## **Exceção PilhaException (Herda da classe Exception)**"
      ]
    },
    {
      "cell_type": "code",
      "metadata": {
        "id": "7e1Ts1GMZJbo",
        "colab_type": "code",
        "colab": {}
      },
      "source": [
        "class PilhaException(Exception):\n",
        "  def __init__(self, mensagem):\n",
        "    super().__init__(mensagem)"
      ],
      "execution_count": 6,
      "outputs": []
    },
    {
      "cell_type": "markdown",
      "metadata": {
        "id": "xLHGzLbcZMoA",
        "colab_type": "text"
      },
      "source": [
        "## **Classe PilhaSequencial**"
      ]
    },
    {
      "cell_type": "code",
      "metadata": {
        "id": "70UNhq1oZnig",
        "colab_type": "code",
        "colab": {}
      },
      "source": [
        "class PilhaSequencial:\n",
        "  def __init__(self):\n",
        "    self.__dados = []\n",
        "\n",
        "  def vazia(self):\n",
        "    return len(self.__dados) == 0\n",
        "\n",
        "  def tamanho(self):\n",
        "    return len(self.__dados)\n",
        "\n",
        "  def topo(self):\n",
        "    \n",
        "      return self.__dados[0]\n",
        "    \n",
        "  def inserir(self, dado):\n",
        "\n",
        "      self.__dados.insert(0,dado)\n",
        "\n",
        "  def remover(self):\n",
        "\n",
        "      if(self.vazia()):\n",
        "        raise PilhaException('A pilha está vazia')\n",
        "\n",
        "      return self.__dados.pop(0)\n",
        "\n",
        "  def __str__(self):\n",
        "    return self.__dados.__str__()\n",
        "  \n",
        "  def imprimir(self):\n",
        "    print(self.__str__())\n",
        "\n",
        "  def modificar(self, novoValor):\n",
        "      \n",
        "      if (self.vazia()):\n",
        "        raise PilhaException('A pilha está vazia')\n",
        "      \n",
        "      self.__dados[0] = novoValor\n",
        "      return True"
      ],
      "execution_count": 9,
      "outputs": []
    },
    {
      "cell_type": "markdown",
      "metadata": {
        "id": "IunDzWITajRK",
        "colab_type": "text"
      },
      "source": [
        "## **Programa Principal Teste**"
      ]
    },
    {
      "cell_type": "code",
      "metadata": {
        "id": "2J_W0yrhakTv",
        "colab_type": "code",
        "colab": {
          "base_uri": "https://localhost:8080/",
          "height": 89
        },
        "outputId": "99ca83e5-f668-424c-d168-73abc65cebba"
      },
      "source": [
        "p = PilhaSequencial()\n",
        "\n",
        "for i in range(1,11):\n",
        "  p.inserir(i * 10)\n",
        "\n",
        "print(p)\n",
        "\n",
        "p.remover()\n",
        "print(p)\n",
        "p.remover()\n",
        "print(p)\n",
        "p.remover()\n",
        "print(p)"
      ],
      "execution_count": 8,
      "outputs": [
        {
          "output_type": "stream",
          "text": [
            "[100, 90, 80, 70, 60, 50, 40, 30, 20, 10]\n",
            "[90, 80, 70, 60, 50, 40, 30, 20, 10]\n",
            "[80, 70, 60, 50, 40, 30, 20, 10]\n",
            "[70, 60, 50, 40, 30, 20, 10]\n"
          ],
          "name": "stdout"
        }
      ]
    }
  ]
}