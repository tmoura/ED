{
  "nbformat": 4,
  "nbformat_minor": 0,
  "metadata": {
    "colab": {
      "provenance": [],
      "authorship_tag": "ABX9TyN1t9f+4jqOdQ6swWAE03cC",
      "include_colab_link": true
    },
    "kernelspec": {
      "name": "python3",
      "display_name": "Python 3"
    },
    "language_info": {
      "name": "python"
    }
  },
  "cells": [
    {
      "cell_type": "markdown",
      "metadata": {
        "id": "view-in-github",
        "colab_type": "text"
      },
      "source": [
        "<a href=\"https://colab.research.google.com/github/tmoura/ED/blob/master/15_Testando_Algoritmos_Boosting.ipynb\" target=\"_parent\"><img src=\"https://colab.research.google.com/assets/colab-badge.svg\" alt=\"Open In Colab\"/></a>"
      ]
    },
    {
      "cell_type": "code",
      "execution_count": null,
      "metadata": {
        "id": "1RrsFmSzb6Q5"
      },
      "outputs": [],
      "source": [
        "from sklearn.datasets import load_breast_cancer\n",
        "from sklearn.ensemble import GradientBoostingClassifier\n",
        "from sklearn.ensemble import RandomForestClassifier\n",
        "from sklearn.model_selection import train_test_split\n",
        "from sklearn import metrics\n",
        "\n",
        "dataset = load_breast_cancer()\n",
        "\n",
        "X = dataset.data\n",
        "y = dataset.target\n",
        "\n",
        "X_train, X_test, y_train, y_test = train_test_split(X, y, test_size=0.2, random_state=None, stratify=y)\n",
        "\n",
        "modelGB = GradientBoostingClassifier()\n",
        "modelGB.fit(X_train, y_train)\n",
        "\n",
        "modelRF = RandomForestClassifier()\n",
        "modelRF.fit(X_train, y_train)\n",
        "\n",
        "resultGB = modelGB.predict(X_test)\n",
        "resultRF = modelRF.predict(X_test)\n",
        "\n",
        "accGB = metrics.accuracy_score(resultGB, y_test)\n",
        "accRF = metrics.accuracy_score(resultRF, y_test)\n",
        "\n",
        "showGB = round(accGB * 100)\n",
        "print(\"{}%\".format(showGB))\n",
        "\n",
        "showRF = round(accRF * 100)\n",
        "print(\"{}%\".format(showRF))"
      ]
    },
    {
      "cell_type": "markdown",
      "source": [
        "### XGBoost"
      ],
      "metadata": {
        "id": "XlKG8-Quoil8"
      }
    },
    {
      "cell_type": "code",
      "source": [
        "#!pip install xgboost\n",
        "\n",
        "import xgboost as xgb\n",
        "\n",
        "modelXG = xgb.XGBClassifier()\n",
        "modelXG.fit(X_train, y_train)\n",
        "\n",
        "resultXG = modelXG.predict(X_test)\n",
        "\n",
        "accXG = metrics.accuracy_score(resultXG, y_test)\n",
        "\n",
        "showXG = round(accRF * 100)\n",
        "print(\"{}%\".format(showXG))"
      ],
      "metadata": {
        "id": "ezpdAv6WlmCH"
      },
      "execution_count": null,
      "outputs": []
    },
    {
      "cell_type": "markdown",
      "source": [
        "### LightGBM"
      ],
      "metadata": {
        "id": "-626O_r9omkP"
      }
    },
    {
      "cell_type": "code",
      "source": [
        "#!pip install lightgbm\n",
        "\n",
        "import lightgbm as lgb\n",
        "\n",
        "modelLGBM = lgb.LGBMClassifier()\n",
        "modelLGBM.fit(X_train, y_train)\n",
        "\n",
        "resultLGBM = modelLGBM.predict(X_test)\n",
        "\n",
        "accLGBM = metrics.accuracy_score(resultLGBM, y_test)\n",
        "\n",
        "showLGBM = round(accLGBM * 100)\n",
        "print(\"{}%\".format(showLGBM))"
      ],
      "metadata": {
        "id": "sBSnofxPoqIT"
      },
      "execution_count": null,
      "outputs": []
    },
    {
      "cell_type": "markdown",
      "source": [
        "### CatBoost"
      ],
      "metadata": {
        "id": "5i_DxDI89bsq"
      }
    },
    {
      "cell_type": "code",
      "source": [
        "#!pip install catboost\n",
        "\n",
        "import catboost as cat\n",
        "\n",
        "modelCAT = cat.CatBoostClassifier()\n",
        "modelCAT.fit(X_train, y_train)\n",
        "\n",
        "resultCAT = modelCAT.predict(X_test)\n",
        "\n",
        "accCAT = metrics.accuracy_score(resultCAT, y_test)\n",
        "\n",
        "showCAT = round(accCAT * 100)\n",
        "print(\"{}%\".format(showCAT))"
      ],
      "metadata": {
        "id": "g2H9fmSE8q-A"
      },
      "execution_count": null,
      "outputs": []
    }
  ]
}